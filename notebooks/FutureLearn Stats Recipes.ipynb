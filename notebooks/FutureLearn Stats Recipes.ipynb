{
 "cells": [
  {
   "cell_type": "markdown",
   "metadata": {},
   "source": [
    "# FutureLearn Stats Recipes\n",
    "\n",
    "*Tony Hirst, The Open University / @psychemedia / OUseful.info blog*\n",
    "\n",
    "*This work has been independently produced as a recreational data activity. The author is not affiliated with FutureLearn Ltd or any Open University learning analytics projects.*\n",
    "\n",
    "*The notebook is licensed as a Creative Commons CC-BY work and code contained within it is licensed under an (attribution requiring) `MIT License`.*\n",
    "\n",
    "This notebook contains a few recipes, sketches and doodles around FutureLearn course stats made available to partners. It has been tested using the `psychemedia/ou-tm351-pystack` Docker container on Docker Hub.\n",
    "\n",
    "Note that the notebooks may not be rendered or not work properly in Internet Explorer: try Chrome, Firefox or Safari instead.\n",
    "\n",
    "This notebook will analyse data from four data files made available by FutureLearn (and updated on a daily basis) for each course:\n",
    "\n",
    "- *COURSE_enrolments.csv*: data about role, enrolments, unenrolments and full participation dates;\n",
    "- *COURSE_step-activity.csv*: record of when each step was first visited by each user and if/when it was completed;\n",
    "- *COURSE_comments.csv*: record of each comment along with the time it was posted, who it was posted by, how many likes it has, and whether it was part of a thread;\n",
    "- *COURSE_question-response.csv*: each question attempt by each learner is recorded, along with the answer submitted and whether it was the correct answer.\n",
    "\n",
    "To analyse the data, click in this area and then press the play button in the toolbar (or hit *shift-Return*) to run each cell in turn.\n",
    "\n",
    "You can tell when a code cell has been run because the `In[]` indicator will be populated by a number showing the order in which the cells were run.\n",
    "\n",
    "A `[*]` indicator shows the current cell (or preceding cells if multiple cells are run from the `Cell` menu) is currently being executed.\n",
    "\n",
    "As well as interactively executable code cells, Jupyter notebooks also support a range of interactive widgets that can be used to create interactive dashboard like displays.\n",
    "\n",
    "Once you have run the notebook, you can save an HTML version of it from the `File` menu."
   ]
  },
  {
   "cell_type": "markdown",
   "metadata": {},
   "source": [
    "# Initialisation\n",
    "\n",
    "We need to load in some libraries and utility functions that we will use to analyse and manipulate the data."
   ]
  },
  {
   "cell_type": "code",
   "execution_count": null,
   "metadata": {
    "collapsed": false
   },
   "outputs": [],
   "source": [
    "import pandas as pd\n",
    "import matplotlib.pyplot as plt\n",
    "import numpy as np\n",
    "import seaborn as sns\n",
    "from matplotlib.patches import Rectangle\n",
    "import random\n",
    "from ipywidgets import widgets, interact\n",
    "from datetime import date, timedelta\n",
    "\n",
    "def offsetDays(date_str,offset):\n",
    "    ''' Return a date a specified number of days before a particular date'''\n",
    "    if offset<0:\n",
    "        return (pd.to_datetime(date_str)-timedelta(days=abs(offset))).date().strftime('%Y-%m-%d')\n",
    "    return (pd.to_datetime(date_str)+timedelta(days=offset)).date().strftime('%Y-%m-%d')"
   ]
  },
  {
   "cell_type": "markdown",
   "metadata": {},
   "source": [
    "----\n",
    "## USER SETTINGS\n",
    "\n",
    "The notebook is self-contained and should be able to generate reports from standard FutureLearn data files.\n",
    "\n",
    "There are however a few settings that are required."
   ]
  },
  {
   "cell_type": "markdown",
   "metadata": {},
   "source": [
    "## Loading the Data\n",
    "\n",
    "Download and unzip the data files into a folder contained in the same directory as this notebook file. Also make note of the course name stub used as part of each filename.\n",
    "\n",
    "FutureLearn provide a CSV each day, generated at midnight, so you may want to grab the data frequently during the course, or just analyse it all at the end of the course.\n",
    "\n",
    "Note that it make take some time to load the data in. Also note that the data is held in memory so a low powered machine may struggle for large datasets.\n",
    "\n",
    "For example, if your filenames are of the form `learn-to-code-1_enrolments.csv` in the folder `learn-to-code-1` use the settings:"
   ]
  },
  {
   "cell_type": "code",
   "execution_count": null,
   "metadata": {
    "collapsed": true
   },
   "outputs": [],
   "source": [
    "#CHANGE THESE SETTINGS FOR YOUR OWN DATA FILE\n",
    "#The settings point to files in a location reataive to the notebook: PATH/STUB_comments.csv etc\n",
    "#For example: learn-to-code-1/learn-to-code-1_comments.csv\n",
    "PATH='learn-to-code-1'\n",
    "STUB='learn-to-code-1'"
   ]
  },
  {
   "cell_type": "markdown",
   "metadata": {},
   "source": [
    "## Notable Dates and Steps\n",
    "\n",
    "Some reports can be highlighted around notable dates (such as the course registration opening date, or start date) or steps (for example, steps where exercises or activities are defined or social steps with particular calls for comment).\n",
    "\n",
    "Identify any notable dates or steps here in order for these to be highlighted automatically."
   ]
  },
  {
   "cell_type": "code",
   "execution_count": null,
   "metadata": {
    "collapsed": true
   },
   "outputs": [],
   "source": [
    "#CHANGE THESE SETTINGS FOR YOUR OWN DATA FILE\n",
    "#To help generate useful reports, identify key dates for your course in the form: YYYY-MM-DD\n",
    "COURSE_OPEN_REGISTRATION='2015-08-11'\n",
    "COURSE_START_DATE='2015-10-26'\n",
    "COURSE_END_DATE='2015-11-23'\n",
    "\n",
    "#We can also define relative timestamps, for example, five days prior to the start date\n",
    "COURSE_PRE_START_MAILINGDATE=offsetDays(COURSE_START_DATE,-5)\n",
    "\n",
    "\n",
    "#Add notable dates to the SPECIAL_DATES list. If there none, set: SPECIAL_DATES=[]\n",
    "SPECIAL_DATES=[COURSE_OPEN_REGISTRATION,\n",
    "               COURSE_START_DATE,\n",
    "               COURSE_END_DATE,\n",
    "               COURSE_PRE_START_MAILINGDATE ]\n",
    "\n",
    "NUMBER_OF_STUDY_WEEKS=4\n",
    "\n",
    "#The SESSION_GAP specifies the minumim time period that distinguishes between two study sessions\n",
    "SESSION_GAP=65"
   ]
  },
  {
   "cell_type": "code",
   "execution_count": null,
   "metadata": {
    "collapsed": true
   },
   "outputs": [],
   "source": [
    "#CHANGE THESE SETTINGS FOR YOUR OWN DATA FILE\n",
    "#If you have any exercise or activity steps, they can be highlighted in some step reports\n",
    "#The steps are defined in the form WSS, where W is the week number and SS the step number (with leading 0)\n",
    "#For example, week 1 step 2 is written: 102; week 3 step 12 is written: 312\n",
    "#To highlight those steps, set: EXERCISE_STEPS=[102, 312]\n",
    "#If you do not want to distinguish any steps, use an empty list: EXERCISE_STEPS=[]\n",
    "EXERCISE_STEPS=[108,207,212,306,315,407,413]\n",
    "\n",
    "#SOCIAL_STEPS may be used to define steps where a social activity is prompted\n",
    "#If you do not want to define any steps, use an empty list: SOCIAL_STEPS=[]\n",
    "#The steps can then be used to highlight particular steps in comment reports\n",
    "SOCIAL_STEPS=[101,105,108,207,212,217,306,322,405,407,413]"
   ]
  },
  {
   "cell_type": "markdown",
   "metadata": {},
   "source": [
    "Most of the code should \"just work\" without further modification, although you can edit and add code cells, as well as markdown/text commentary cells to the notebook, as you see fit.\n",
    "\n",
    "YOU SHOULD NOT NEED TO MAKE ANY FURTHER CHANGES TO THE NOTEBOOK BELOW THIS LINE (UNLESS YOU WANT TO!)\n",
    "\n",
    "----"
   ]
  },
  {
   "cell_type": "markdown",
   "metadata": {},
   "source": [
    "We can now automatically generate some more dates of interest."
   ]
  },
  {
   "cell_type": "code",
   "execution_count": null,
   "metadata": {
    "collapsed": false
   },
   "outputs": [],
   "source": [
    "STUDY_WEEK_DATES=[]\n",
    "for i in range(NUMBER_OF_STUDY_WEEKS):\n",
    "    STUDY_WEEK_DATES.append(offsetDays(COURSE_START_DATE,7*i))"
   ]
  },
  {
   "cell_type": "markdown",
   "metadata": {},
   "source": [
    "### Load in the Data\n",
    "\n",
    "Use the specified data file locations to load the data in."
   ]
  },
  {
   "cell_type": "code",
   "execution_count": null,
   "metadata": {
    "collapsed": false
   },
   "outputs": [],
   "source": [
    "#Load in the data - enrolments file\n",
    "enrolments=pd.read_csv('{}/{}_enrolments.csv'.format(PATH.strip('/'),STUB),parse_dates=[1,2,4])\n",
    "\n",
    "#Preview the data\n",
    "enrolments.head(3)"
   ]
  },
  {
   "cell_type": "code",
   "execution_count": null,
   "metadata": {
    "collapsed": false
   },
   "outputs": [],
   "source": [
    "#Load in the data - steps file - THIS MAY TAKE SOME TIME\n",
    "steps=pd.read_csv('{}/{}_step-activity.csv'.format(PATH.strip('/'),STUB),\n",
    "                  parse_dates=[4,5],\n",
    "                  dtype={'step':object})\n",
    "\n",
    "#Let's generate an ordered numerical key for the week/step combinations that lets us easily distinguish weeks\n",
    "steps['flstep']=steps['week_number']*100+steps['step_number']\n",
    "\n",
    "#Preview the data\n",
    "steps.head(3)"
   ]
  },
  {
   "cell_type": "code",
   "execution_count": null,
   "metadata": {
    "collapsed": false
   },
   "outputs": [],
   "source": [
    "#Load in the data - comments file\n",
    "comments=pd.read_csv('{}/{}_comments.csv'.format(PATH.strip('/'),STUB),parse_dates=[7],dtype={'step': object})\n",
    "\n",
    "#The step as defined is not brilliant for sorting - create a new step indexing scheme\n",
    "comments['flstep']=comments['week_number']*100+comments['step_number']\n",
    "\n",
    "#Preview the data\n",
    "comments.head(3)"
   ]
  },
  {
   "cell_type": "code",
   "execution_count": null,
   "metadata": {
    "collapsed": false
   },
   "outputs": [],
   "source": [
    "#Load in the quiz response data - THIS MAY TAKE SOME TIME\n",
    "qnresp=pd.read_csv('{}/{}_question-response.csv'.format(PATH.strip('/'),STUB),parse_dates=[6])\n",
    "\n",
    "#Create a simple sortable numeric id for each quiz question number\n",
    "qnresp['qid']=(100*qnresp['week_number'])+qnresp['step_number']+qnresp['question_number']/100\n",
    "\n",
    "#Create a key for a particular response\n",
    "qnresp['qidr']=qnresp['quiz_question']+'.'+qnresp['response'].apply(str)\n",
    "\n",
    "#Create the week/step lookup\n",
    "qnresp['flstep']=qnresp['week_number']*100+qnresp['step_number']\n",
    "\n",
    "#Preview the data\n",
    "qnresp.head(3)"
   ]
  },
  {
   "cell_type": "markdown",
   "metadata": {},
   "source": [
    "## Simple Reporting\n",
    "\n",
    "Let's start with some simple reports that describe the overall participation state of the course. It will be convenient to create several lists of user IDs that represent different populatations, such as learners who have fully participated, learners who have completed at least one step, or learners who have commented."
   ]
  },
  {
   "cell_type": "code",
   "execution_count": null,
   "metadata": {
    "collapsed": false
   },
   "outputs": [],
   "source": [
    "#Roles available\n",
    "print(\"Assigned roles: {}.\".format(', '.join(([r for r in enrolments['role'].unique()]))))"
   ]
  },
  {
   "cell_type": "markdown",
   "metadata": {},
   "source": [
    "A simple function will pull out the unique identifiers of people with a particular role:"
   ]
  },
  {
   "cell_type": "code",
   "execution_count": null,
   "metadata": {
    "collapsed": true
   },
   "outputs": [],
   "source": [
    "def usersByRole(role):\n",
    "    return set(enrolments[enrolments['role']==role]['learner_id'])"
   ]
  },
  {
   "cell_type": "markdown",
   "metadata": {},
   "source": [
    "We can also create some canned groups that may be useful later."
   ]
  },
  {
   "cell_type": "code",
   "execution_count": null,
   "metadata": {
    "collapsed": false
   },
   "outputs": [],
   "source": [
    "#Create a range of lists of user IDs for users with different states of enrolment\n",
    "enrolled_learners=usersByRole('learner')\n",
    "\n",
    "unenrolled_learners=set(enrolments[(enrolments['unenrolled_at'].notnull()) &\n",
    "                               (enrolments['role']=='learner')]['learner_id'])\n",
    "\n",
    "fullypart_learners=set(enrolments[(enrolments['fully_participated_at'].notnull()) &\n",
    "                              (enrolments['role']=='learner')]['learner_id'])\n",
    "\n",
    "#Create a list of learners who have visited at least one step\n",
    "stepstart_learners=set(steps[steps['first_visited_at'].notnull()]['learner_id'])\n",
    "\n",
    "#Create a list of learners who have completed at least one step\n",
    "stepcomplete_learners=set(steps[steps['last_completed_at'].notnull()]['learner_id'])\n",
    "\n",
    "#Create a list of learners who have commented at least once\n",
    "commenting_learners=set(comments[comments['author_id'].isin(enrolled_learners)]['author_id'])\n",
    "\n",
    "\n",
    "#Create a list of learners who have completed at least one quiz element\n",
    "quiz_learners=set(qnresp[qnresp['learner_id'].isin(enrolled_learners)]['learner_id'])\n",
    "\n",
    "\n",
    "#Define a simple dict to record the groups and a way of retrieving the members of each group by name\n",
    "#These groups can be automatically referenced from some interactive chart controls\n",
    "grouplist=['enrolled_learners','unenrolled_learners','fullypart_learners',\n",
    "           'stepstart_learners','stepcomplete_learners','commenting_learners','quiz_learners']\n",
    "groupLookup=lambda x: globals()[x]"
   ]
  },
  {
   "cell_type": "markdown",
   "metadata": {},
   "source": [
    "We can now do some simple counting around those sets of individuals."
   ]
  },
  {
   "cell_type": "code",
   "execution_count": null,
   "metadata": {
    "collapsed": false
   },
   "outputs": [],
   "source": [
    "print('Enrolled learners: {:,}'.format(len(enrolled_learners)))\n",
    "print('Fully participating learners: {:,}'.format(len(fullypart_learners)))\n",
    "print('Unenrolled learners: {:,}'.format(len(unenrolled_learners)))\n",
    "\n",
    "print('Enrolled users who completed at least one step: {:,}'.format(len(enrolled_learners.intersection(stepcomplete_learners))))\n",
    "print('Enrolled users who visited at least one step: {:,}'.format(len(enrolled_learners.intersection(stepstart_learners))))\n",
    "print('Enrolled users who did not visit at least one step: {:,}'.format(len(enrolled_learners.difference(stepstart_learners))))\n",
    "\n",
    "print('Unenrolled users who completed at least one step: {:,}'.format(len(unenrolled_learners.intersection(stepcomplete_learners))))\n",
    "print('Unenrolled users who visited at least one step: {:,}'.format(len(unenrolled_learners.intersection(stepstart_learners))))\n",
    "print('Unenrolled users who did not visit at least one step: {:,}'.format(len(unenrolled_learners.difference(stepstart_learners))))\n",
    "\n",
    "print('Enrolled learners who commented: {:,}'.format(len(commenting_learners)))\n",
    "print('Enrolled learners who did not comment: {:,}'.format(len(enrolled_learners.difference(commenting_learners))))\n",
    "print('Fully participating learners who commented: {:,}'.format(len(commenting_learners.intersection(fullypart_learners))))\n",
    "print('Fully participating learners who did not comment: {:,}'.format(len(commenting_learners.difference(fullypart_learners))))\n",
    "print('Unenrolled learners who commented: {:,}'.format(len(commenting_learners.intersection(unenrolled_learners))))\n",
    "print('Unenrolled learners who did not comment: {:,}'.format(len(commenting_learners.difference(unenrolled_learners))))"
   ]
  },
  {
   "cell_type": "markdown",
   "metadata": {},
   "source": [
    "These sorts of report can of course be combined into slightly more flowing summaries. For example:"
   ]
  },
  {
   "cell_type": "code",
   "execution_count": null,
   "metadata": {
    "collapsed": false
   },
   "outputs": [],
   "source": [
    "report='''\n",
    "Of the {:,} enrolled learners, {} ({:.2f}%) fully participated and {:,} ({:.2f}%) commented.\n",
    "However, {:,} enrolled learners ({:.2f}%) did not even visit a single step.\n",
    "'''.format(len(enrolled_learners),\n",
    "          len(fullypart_learners),\n",
    "          100*len(fullypart_learners)/len(enrolled_learners),\n",
    "          len(commenting_learners),\n",
    "          100*len(commenting_learners)//len(enrolled_learners),\n",
    "          len(enrolled_learners.difference(stepstart_learners)),\n",
    "          100*len(enrolled_learners.difference(stepcomplete_learners))/len(enrolled_learners))\n",
    "\n",
    "print(report)"
   ]
  },
  {
   "cell_type": "markdown",
   "metadata": {},
   "source": [
    " Creating a wider range of textualised reports is left as a recreational data activity for the interested reader. "
   ]
  },
  {
   "cell_type": "markdown",
   "metadata": {},
   "source": [
    "### Time Filters\n",
    "\n",
    "Another way of partitioning the data is to limit it to activity occurring within a particular time of day range. The following functions allows you to limit data sets to data contained within a particular date range or time of day range."
   ]
  },
  {
   "cell_type": "code",
   "execution_count": null,
   "metadata": {
    "collapsed": true
   },
   "outputs": [],
   "source": [
    "#Display the enrolment/unenrollment/fully participating counts\n",
    "#If dates are specified, use the form YYYY-MM-DD\n",
    "def date_limiter(df, start=None, end=None, index=None):\n",
    "    if index is not None:\n",
    "        df=df.set_index(index)\n",
    "    df.sort_index(inplace=True)\n",
    "    if start is not None and end is not None:\n",
    "        df=df[start:end]\n",
    "    elif start is not None:\n",
    "        df=df[start:]\n",
    "    elif end is not None:\n",
    "        df=df[:end]\n",
    "    return df\n",
    "\n",
    "#http://stackoverflow.com/a/10567298/454773\n",
    "def timeOfDay_limiter(df, start=None, end=None, index=None):\n",
    "    if index is not None:\n",
    "        df=df.set_index(index)\n",
    "        df.sort_index(inplace=True)\n",
    "    hour = df.index.hour\n",
    "    if start is not None and end is not None:\n",
    "        selector = ((start <= hour) & (hour <= end))\n",
    "        df = df[selector]\n",
    "    elif start is not None:\n",
    "        selector = ((start <= hour) & (hour <= 23))\n",
    "        df = df[selector]\n",
    "    elif end is not None:\n",
    "        selector = ((0 <= hour) & (hour <= end))\n",
    "        df = df[selector]\n",
    "    return df"
   ]
  },
  {
   "cell_type": "code",
   "execution_count": null,
   "metadata": {
    "collapsed": false
   },
   "outputs": [],
   "source": [
    "#Let's see if there are any early starters working around 1am on the first day...\n",
    "date_limiter(timeOfDay_limiter(steps,start=1,end=1,index='first_visited_at'),COURSE_START_DATE, COURSE_START_DATE ).head(3)"
   ]
  },
  {
   "cell_type": "code",
   "execution_count": null,
   "metadata": {
    "collapsed": false
   },
   "outputs": [],
   "source": [
    "#We can also slice into hour/minute blocks using the date_limiter() function\n",
    "tmp=date_limiter(steps, start=COURSE_START_DATE+' 01:10:50', end=COURSE_START_DATE+' 02', index='first_visited_at')\n",
    "print(tmp.head(1),tmp.tail(1))\n",
    "steps.reset_index()\n",
    "tmp=None"
   ]
  },
  {
   "cell_type": "markdown",
   "metadata": {},
   "source": [
    "## Enrolment Summaries\n",
    "\n",
    "Enrolment summary reports are the first reports we can start to generate, in advance of the course opening date.\n",
    "\n",
    "It's easy enough to plot a chart that shpws the accumulated count of learners in the data to date:"
   ]
  },
  {
   "cell_type": "code",
   "execution_count": null,
   "metadata": {
    "collapsed": false
   },
   "outputs": [],
   "source": [
    "def plot_cumulativeCount(df,group,groupset,index,title):\n",
    "    df=df[df[group].isin(groupset)]\n",
    "    df=df.reset_index().set_index(index)\n",
    "    df.sort_index(inplace=True)\n",
    "    df['enaccnum']=range(len(df))\n",
    "    ax=df['enaccnum'].plot(legend=False, title=title)\n",
    "    ax.set_xlabel('')"
   ]
  },
  {
   "cell_type": "code",
   "execution_count": null,
   "metadata": {
    "collapsed": false
   },
   "outputs": [],
   "source": [
    "plot_cumulativeCount(enrolments,'learner_id',enrolled_learners,'enrolled_at','Enrolment count onto the course')"
   ]
  },
  {
   "cell_type": "markdown",
   "metadata": {},
   "source": [
    "We can also try to be a bit cleverer, and display returns for learners who *registered* within a particular time period.\n",
    "\n",
    "An additional helper function overplots notable date lines onto the chart, such as course open registration date and course start date."
   ]
  },
  {
   "cell_type": "code",
   "execution_count": null,
   "metadata": {
    "collapsed": false
   },
   "outputs": [],
   "source": [
    "def notableDatePlot(ax):\n",
    "    for sd in SPECIAL_DATES:\n",
    "        ax.axvline(pd.to_datetime(sd), color='grey', linestyle='--', lw=2)\n",
    "        \n",
    "def studyWeekDatePlot(ax):\n",
    "    for sd in STUDY_WEEK_DATES:\n",
    "        ax.axvline(pd.to_datetime(sd), color='grey', linestyle='--', lw=2)\n",
    "    \n",
    "def enrolInWindow(en,start=None,end=None,edge=False,notableDates=True):\n",
    "    ''' Normally the start and end dates apply to enrolment date.\n",
    "        Any full participation or unenrolment dates are relative to those individuals so may extend\n",
    "        outside the start/end date range.\n",
    "        To hard limit the chart start/end dates, apply the edge=True setting. '''\n",
    "    enw=en.set_index('enrolled_at')\n",
    "    enw.sort_index(inplace=True)\n",
    "    enw=date_limiter(enw, start, end)\n",
    "    enw['enaccnum']=range(len(enw))\n",
    "    ax=enw['enaccnum'].plot(title='Enrolment count onto the course',\n",
    "                            figsize=(15,10),legend=True,label='Enrolments',color='b')\n",
    "    unenw=enw[enw['unenrolled_at'].notnull()].copy()\n",
    "    unenw=unenw.set_index('unenrolled_at')\n",
    "    unenw.sort_index(inplace=True)\n",
    "    if edge: unenw=date_limiter(unenw, start, end)\n",
    "    unenw['unenaccnum']=range(len(unenw))\n",
    "    ax=unenw['unenaccnum'].plot(ax=ax,legend=True,label='Unenrolments',color='r')\n",
    "    fullp=enw[enw['fully_participated_at'].notnull()].copy()\n",
    "    fullp=fullp.set_index('fully_participated_at')\n",
    "    fullp.sort_index(inplace=True)\n",
    "    if edge: fullp=date_limiter(fullp, start, end)\n",
    "    fullp['fullpaccnum']=range(len(fullp))\n",
    "    ax=fullp['fullpaccnum'].plot(ax=ax,legend=True,label='Full participation',color='g')\n",
    "    ax.set_xlabel(\"Date\")\n",
    "    \n",
    "    if notableDates:\n",
    "        notableDatePlot(ax)"
   ]
  },
  {
   "cell_type": "markdown",
   "metadata": {},
   "source": [
    "In the following view, we plot enrolment stats for all enrolled learners over all time."
   ]
  },
  {
   "cell_type": "code",
   "execution_count": null,
   "metadata": {
    "collapsed": false
   },
   "outputs": [],
   "source": [
    "enrolInWindow(enrolments[enrolments['learner_id'].isin(enrolled_learners)])"
   ]
  },
  {
   "cell_type": "markdown",
   "metadata": {},
   "source": [
    "Things to look for include bursts around notable dates. Additional notable dates (such as mailings or campaign dates), can be added to the charting function."
   ]
  },
  {
   "cell_type": "markdown",
   "metadata": {},
   "source": [
    "We can also look at the behaviour of learners who enrolled before, after or between particular dates. Note that by default, the date limiting applies to when learners *enrolled* - unenrolment or full completion dates may occur in the time period  after any specified enrolment period."
   ]
  },
  {
   "cell_type": "code",
   "execution_count": null,
   "metadata": {
    "collapsed": false
   },
   "outputs": [],
   "source": [
    "#Look at the behaviour of folk who enrolled on or after the course start date\n",
    "enrolInWindow(enrolments[enrolments['learner_id'].isin(enrolled_learners)],start=COURSE_START_DATE)"
   ]
  },
  {
   "cell_type": "markdown",
   "metadata": {},
   "source": [
    "If we apply the `edge=True` argument, the chart display is hard limited to the specified date range. However, the unenrolment and fully participated counts will still be relative to the population who enrolled in the specified period.\n",
    "\n",
    "If you want a chart generated over all data but displaying within just a limited time window, set the range via the actual chart parameters (*method not described*)."
   ]
  },
  {
   "cell_type": "code",
   "execution_count": null,
   "metadata": {
    "collapsed": false
   },
   "outputs": [],
   "source": [
    "#Look at the behaviour of learners in the period up to the course start date\n",
    "enrolInWindow(enrolments[enrolments['learner_id'].isin(enrolled_learners)],end=COURSE_START_DATE,edge=True)"
   ]
  },
  {
   "cell_type": "markdown",
   "metadata": {},
   "source": [
    "### Enrolment Behaviour\n",
    "\n",
    "Used as a standalone dataset, enrolment data allows us to ask a variety of questions about when learners enrol and unenrol, the duration between enrolling and unenrolling, and so on.\n",
    "\n",
    "Enrolment dates also allow us to identify several distinct groupings of learners:\n",
    "\n",
    "- learners who enrolled when the course was first announced;\n",
    "- learners who enrolled between the course first being announced and actual start date;\n",
    "- learners who enrolled around on or shortly after the course start date;\n",
    "- learners who enrolled some time after the start date, eg after the first week of the course.\n",
    "\n",
    "These groupings can be retrieved using the `date_limiter()` function, assuming that the index is set to the appropriate timestamp:"
   ]
  },
  {
   "cell_type": "code",
   "execution_count": null,
   "metadata": {
    "collapsed": false
   },
   "outputs": [],
   "source": [
    "#Find learners who registered on the course start date\n",
    "startdatelearners=date_limiter(enrolments[enrolments['learner_id'].isin(enrolled_learners)],\n",
    "                               start=COURSE_START_DATE,\n",
    "                               end=COURSE_START_DATE,\n",
    "                               index='enrolled_at')\n",
    "print('{} learners enrolled on the course start date, {}.'.format(len(startdatelearners),COURSE_START_DATE))"
   ]
  },
  {
   "cell_type": "markdown",
   "metadata": {},
   "source": [
    "As well as using enrolment returns to monitor the effectiveness of promotional, call-to-action registration campaigns through monitoring enrolment numbers, we can also use the enrolment data to explore unenrolments, for example asking how long learner who unenrol from the course are enrolled on to it."
   ]
  },
  {
   "cell_type": "code",
   "execution_count": null,
   "metadata": {
    "collapsed": false
   },
   "outputs": [],
   "source": [
    "#The difference between enrolment time and unenrolment times gives us the period of enrolment.\n",
    "enrolmentLasted=enrolments[enrolments['learner_id'].isin(unenrolled_learners)][:]\n",
    "enrolmentLasted['entime']=(enrolmentLasted['unenrolled_at']-enrolmentLasted['enrolled_at']).astype('timedelta64[D]')\n",
    "\n",
    "#We can also generate the number of enrolled \"study days\":\n",
    "#Calculate relative to enrolment or course start date, whichever is the later\n",
    "enrolmentLasted['studyentime']= np.where(enrolmentLasted['enrolled_at'] >= pd.to_datetime(COURSE_START_DATE), \\\n",
    "                                              (enrolmentLasted['unenrolled_at']-enrolmentLasted['enrolled_at']).astype('timedelta64[D]'), \\\n",
    "                                              (enrolmentLasted['unenrolled_at']-pd.to_datetime(COURSE_START_DATE)).astype('timedelta64[D]'))"
   ]
  },
  {
   "cell_type": "markdown",
   "metadata": {},
   "source": [
    "For learners who enrol before the course start date, how many days do they remain enrolled?"
   ]
  },
  {
   "cell_type": "code",
   "execution_count": null,
   "metadata": {
    "collapsed": false
   },
   "outputs": [],
   "source": [
    "WHICH_TIME='entime'\n",
    "#WHICH_TIME can be: entime, studyentime; title/axis labels will need updating correspondingly\n",
    "tmp=date_limiter(enrolmentLasted,\n",
    "                end=COURSE_START_DATE,\n",
    "                index='enrolled_at').groupby(WHICH_TIME).size().reset_index()\n",
    "ax=tmp.plot(kind='scatter',\n",
    "            x=WHICH_TIME, y=0, figsize=(15, 10),\n",
    "            title='Enrolment duration for unenrolled learners enrolling before {}'.format(COURSE_START_DATE))\n",
    "ax.set_xlabel('Enrolment duration (days)')\n",
    "ax.set_ylabel('Number of unenrolments')"
   ]
  },
  {
   "cell_type": "markdown",
   "metadata": {},
   "source": [
    "Things to look out for:\n",
    "\n",
    "- enrolment durations for early enrollers that correspond to the number of days between the course being announced and the start of the course."
   ]
  },
  {
   "cell_type": "markdown",
   "metadata": {},
   "source": [
    "Looking at the number of available study days a learner was enrolled before unenrolling gives us a view on the extent to which unenrolment occurred prior to the course start date ('negative' study days are days prior to the start of the course). We can plot this as a scatterplot, (as above) or as a histogram."
   ]
  },
  {
   "cell_type": "code",
   "execution_count": null,
   "metadata": {
    "collapsed": false
   },
   "outputs": [],
   "source": [
    "enrolmentLasted['studyentime'].plot(kind='hist',title='Time to full unenrolment (available study days)')"
   ]
  },
  {
   "cell_type": "code",
   "execution_count": null,
   "metadata": {
    "collapsed": false
   },
   "outputs": [],
   "source": [
    "#Are there any popular enrolment dates?\n",
    "tmp=date_limiter(enrolmentLasted,\n",
    "                index='enrolled_at')\n",
    "\n",
    "ax=tmp.groupby(tmp.index.date).size().plot( figsize=(15, 10),\n",
    "          title='Number of enrolments per day' )\n",
    "ax.axvline(pd.to_datetime(COURSE_START_DATE), color='grey', linestyle='--', lw=2)"
   ]
  },
  {
   "cell_type": "code",
   "execution_count": null,
   "metadata": {
    "collapsed": false
   },
   "outputs": [],
   "source": [
    "#Popular enrolment dates\n",
    "tmp.groupby(tmp.index.date).size().sort_values(ascending=False).head()"
   ]
  },
  {
   "cell_type": "code",
   "execution_count": null,
   "metadata": {
    "collapsed": false
   },
   "outputs": [],
   "source": [
    "#Are there any popular unenrolment dates?\n",
    "tmp=date_limiter(enrolmentLasted,\n",
    "                index='unenrolled_at')\n",
    "\n",
    "ax=tmp.groupby(tmp.index.date).size().plot( figsize=(15, 10),\n",
    "          title='Number of unenrolments per day' )\n",
    "notableDatePlot(ax)"
   ]
  },
  {
   "cell_type": "code",
   "execution_count": null,
   "metadata": {
    "collapsed": false
   },
   "outputs": [],
   "source": [
    "#Popular unenrolment dates\n",
    "tmp.groupby(tmp.index.date).size().sort_values(ascending=False).head(10)"
   ]
  },
  {
   "cell_type": "markdown",
   "metadata": {},
   "source": [
    "Possible notable dates for unenrolments:\n",
    "\n",
    "- date course is first announced (people enrol, then unenrol on same day);\n",
    "- date a week before course starts when a reminder mailing goes out;\n",
    "- start date of course when folk realise it's not what they expected;\n",
    "- date reminders go out at start of each study week."
   ]
  },
  {
   "cell_type": "markdown",
   "metadata": {},
   "source": [
    "A similar calculation to the live-course / 'study days' enrolment period can also be calculated for fully participating learners."
   ]
  },
  {
   "cell_type": "code",
   "execution_count": null,
   "metadata": {
    "collapsed": false
   },
   "outputs": [],
   "source": [
    "#Calculate the enrolment time before full-participation\n",
    "enrolmentFullyPart=enrolments[enrolments['learner_id'].isin(fullypart_learners)][:]\n",
    "enrolmentFullyPart['fullyparttime']= np.where(enrolmentFullyPart['enrolled_at'] >= pd.to_datetime(COURSE_START_DATE), \\\n",
    "                                              (enrolmentFullyPart['fully_participated_at']-enrolmentFullyPart['enrolled_at']).astype('timedelta64[D]'), \\\n",
    "                                              (enrolmentFullyPart['fully_participated_at']-pd.to_datetime(COURSE_START_DATE)).astype('timedelta64[D]'))"
   ]
  },
  {
   "cell_type": "code",
   "execution_count": null,
   "metadata": {
    "collapsed": false
   },
   "outputs": [],
   "source": [
    "#Show time to full participation relative to enrolment date or course start date, whichever is later\n",
    "enrolmentFullyPart['fullyparttime'].plot(kind='hist',title='Time to full participation (available study days)')"
   ]
  },
  {
   "cell_type": "markdown",
   "metadata": {},
   "source": [
    "If you've paced the course for an N week period, you're probably looking for evidence by the end of the course of a peak around 7N study days for your fully participating learners."
   ]
  },
  {
   "cell_type": "markdown",
   "metadata": {},
   "source": [
    "## Adding in Some Step Intelligence\n",
    "\n",
    "If we combine the `enrolment` data with the `steps` data, we can start to explore whether there are any particular steps that are associated with learners unenrolling or otherwise withdrawing / disengaging from the course. "
   ]
  },
  {
   "cell_type": "markdown",
   "metadata": {},
   "source": [
    "### Looking at Last *First Visited* Data\n",
    "\n",
    "For learners who unenroll, are there any particular steps that are commonly the last visited step?\n",
    "\n",
    "One way of estimating this is to assume that learners follow steps in order and then find the largest step number visitied for each unenrolled learner."
   ]
  },
  {
   "cell_type": "code",
   "execution_count": null,
   "metadata": {
    "collapsed": false
   },
   "outputs": [],
   "source": [
    "#merge enrolment data with the largest step number recorded for each unenrolled learner \n",
    "tmp=pd.merge(enrolmentLasted,\n",
    "             steps.sort_values('flstep',ascending=False).groupby('learner_id')['flstep'].first().reset_index(),\n",
    "             on='learner_id')"
   ]
  },
  {
   "cell_type": "markdown",
   "metadata": {},
   "source": [
    "The following table identifies steps that are commonly the last step encountered by unenrolled learners. In other words, if learners unenroll, these may be the steps that may have been the one to finally drive them away.\n",
    "\n",
    "(The step numbers are coded `WSS`, where `W` is the week number and `SS` the step number; for example, *week 1 step 2* is identified as `102`. "
   ]
  },
  {
   "cell_type": "code",
   "execution_count": null,
   "metadata": {
    "collapsed": false
   },
   "outputs": [],
   "source": [
    "tmp.groupby('flstep').size().sort_values(ascending=False).head(10)"
   ]
  },
  {
   "cell_type": "markdown",
   "metadata": {},
   "source": [
    "We can also visualise the full table as a bar chart. The peaks are the most common steps last encountered by learners who unenroll. \n",
    "\n",
    "I can't figure out how to addd dashed lines to the chart to show \"distinguished\" steps such as exercise or activity steps, but we can highlight particular bars - so let's create a simple function to highlight the exercise steps."
   ]
  },
  {
   "cell_type": "code",
   "execution_count": null,
   "metadata": {
    "collapsed": false
   },
   "outputs": [],
   "source": [
    "#The steps highlighter can use thing like exercise (for EXERCISE_STEPS) or social (SOCIAL_STEPS)\n",
    "\n",
    "\n",
    "#?Promote colour settings up to (optional) user defined values?\n",
    "EXERCISE_COLOUR='#aa3333'\n",
    "SOCIAL_COLOUR='#33aa33'\n",
    "\n",
    "def highlightSteps(ax,df,typ='exercise'):\n",
    "    if typ=='exercise':\n",
    "        vals=EXERCISE_STEPS\n",
    "        col=EXERCISE_COLOUR\n",
    "    elif typ=='social':\n",
    "        vals=SOCIAL_STEPS\n",
    "        col=SOCIAL_COLOUR\n",
    "    else: return\n",
    "    if df.index.name!='flstep':df.set_index('flstep',inplace=True)\n",
    "    for highlight in vals:\n",
    "        if highlight in df.index:\n",
    "            pos = df.index.get_loc(highlight)\n",
    "            ax.patches[pos].set_facecolor(col)"
   ]
  },
  {
   "cell_type": "markdown",
   "metadata": {},
   "source": [
    "Now we can decorate the chart to highlight steps associated with exercises or social activities."
   ]
  },
  {
   "cell_type": "code",
   "execution_count": null,
   "metadata": {
    "collapsed": false
   },
   "outputs": [],
   "source": [
    "#Chart of number of people who unenrolled on a particular step\n",
    "#Note that we need to bring in the full range of steps from the original steps dataframe\n",
    "tmp2=pd.merge(pd.DataFrame({'flstep':steps['flstep'].unique()}),\n",
    "              tmp.groupby('flstep').size().reset_index(),\n",
    "              on='flstep', how='left')\n",
    "#Make sure the steps are ordered correctly\n",
    "tmp2.sort_index(inplace=True)\n",
    "ax=tmp2.plot(kind='bar',x='flstep',y=0,legend=False,figsize=(15,10),\n",
    "             title='Number of learners unenrolling on a particular step.')\n",
    "\n",
    "\n",
    "#Now we can highlight any distinguised bars\n",
    "#EXERCISE_STEPS defines a list of distinguished steps encoded as WSS (Week*100)+Step; step 1->01)\n",
    "#http://stackoverflow.com/a/20395817/454773\n",
    "highlightSteps(ax,tmp2,'exercise')"
   ]
  },
  {
   "cell_type": "markdown",
   "metadata": {},
   "source": [
    "Possible things to look for:\n",
    "\n",
    "- people unenrolling on the last step of a week (gave it a try, didn't work out, or got what they needed?);\n",
    "- people enrolling on the first step of a week (looking forward, doesn't seem to offer what's expected? Style not to liking?);\n",
    "- people enrolling on an early mid-week step (some activity / exercise that is not what was expected and/or otherwise puts people off?)"
   ]
  },
  {
   "cell_type": "markdown",
   "metadata": {},
   "source": [
    "More generally, and to take into account learners who withdraw silently and without unenrolling, it may be worth looking at the last steps that learners in general (not just ones who unenrolled) either first visit or mark as complete.\n",
    "\n",
    "Let's start with a count of how many times each step is the last 'first visited' step across all learners; we can do this for all learners, or ignore learners who unenrolled:"
   ]
  },
  {
   "cell_type": "code",
   "execution_count": null,
   "metadata": {
    "collapsed": true
   },
   "outputs": [],
   "source": [
    "sample=steps[steps['learner_id'].isin(enrolled_learners)]\n",
    "#Other samples include:\n",
    "##sample=steps[~steps['learner_id'].isin(unenrolled_learners)] #excludes unenrolled learners\n",
    "##sample=steps[steps['learner_id'].isin(enrolled_learners)] #includes all learners\n",
    "##sample=steps[~steps['learner_id'].isin(fullypart_learners)] #includes all learners who didn't fully participate\n",
    "#We could also sample based on learners who enrolled before the course start date, after the course start date, etc"
   ]
  },
  {
   "cell_type": "markdown",
   "metadata": {},
   "source": [
    "For this sample, grab the learners' last `first visited` steps. This partly assumes that learners only visit a page once, which may or may not be true. (FutureLearn doesn't make 'last visited' data available as part of the default data.)\n",
    "\n",
    "The table records the step number followed by the number of learners for whom this was their last first visited step."
   ]
  },
  {
   "cell_type": "code",
   "execution_count": null,
   "metadata": {
    "collapsed": false
   },
   "outputs": [],
   "source": [
    "#Sort on the basis of first_visited time, with most recent (largest) time first\n",
    "tmp=sample.sort_values('first_visited_at',ascending=False).groupby('learner_id')\n",
    "#Now take the first (most recent) record for each learner\n",
    "tmp=tmp[['first_visited_at','flstep']].first().reset_index()\n",
    "#The date_limiter() function also sets the index\n",
    "tmp=date_limiter(tmp, index='first_visited_at')\n",
    "tmp.groupby('flstep').size().sort_values(ascending=False).head(10)"
   ]
  },
  {
   "cell_type": "markdown",
   "metadata": {},
   "source": [
    "If we chart the result, the peaks show us the steps which were the last first visited steps for a large number of users. These steps might be worth looking at to see if there is any indication as to why learners may not go on to visit any further steps.\n",
    "\n",
    "Note that we identified the last first visited step by date, rather than step. This means that a learner might visit a higher step number at some point in time *before* a lower step number. In such a case, a lower step number may be recorded as a learner's last step (i.e. last in terms of time first visited) even though they had previously visited steps further into the course."
   ]
  },
  {
   "cell_type": "code",
   "execution_count": null,
   "metadata": {
    "collapsed": false
   },
   "outputs": [],
   "source": [
    "tmp.groupby('flstep').size().sort_index().plot(kind='bar',x='flstep',y=0,\n",
    "                                                legend=False,figsize=(15,10),\n",
    "                                                title='Count of times each step is the last \"first visited\" step')"
   ]
  },
  {
   "cell_type": "markdown",
   "metadata": {},
   "source": [
    "These last \"first visited\" step counts identify those steps last encountered by learners for the first time in terms of time. We can also run an accumulated count of 'last seen' learners over the steps. The chart counts how many people who have 'last first seen' a particular step number, which is to say, the number of people who did not later progress to another step for the first time.\n",
    "\n",
    "An interpretation of this chart is that the vertical y-axis provides an indication of how many people have been \"lost\" from the course by any particular point (i.e. people who know longer see any steps for the first time)."
   ]
  },
  {
   "cell_type": "code",
   "execution_count": null,
   "metadata": {
    "collapsed": false
   },
   "outputs": [],
   "source": [
    "tmp.groupby('flstep').size().sort_index().cumsum().plot(kind='bar',x='flstep',y=0,\n",
    "                                                legend=False,figsize=(15,10),\n",
    "                                                title='Accumulated number of people who have had their last \"first visited\" step.')"
   ]
  },
  {
   "cell_type": "markdown",
   "metadata": {},
   "source": [
    "If we subtract the accumulated count  from the overall number of learners in the sample, this gives us an indication of how many people visited at least one more step (that is, an indication of the number of people who do visit at least one more step for the first time)."
   ]
  },
  {
   "cell_type": "code",
   "execution_count": null,
   "metadata": {
    "collapsed": false
   },
   "outputs": [],
   "source": [
    "tmp.groupby('flstep').size().sort_index().cumsum().rsub(len(tmp)).plot(kind='bar',x='flstep',y=0,\n",
    "                                                legend=False,figsize=(15,10),\n",
    "                                                title='Number of people who \"first visited\" at least one more step after first visiting a particular step.')"
   ]
  },
  {
   "cell_type": "markdown",
   "metadata": {},
   "source": [
    "### Looking at Last *Last Completed* Data\n",
    "\n",
    "We can also identify those steps that learners last marked as complete. This allows us to identify steps where learners were last motivated to tell us they'd completed the step."
   ]
  },
  {
   "cell_type": "code",
   "execution_count": null,
   "metadata": {
    "collapsed": false
   },
   "outputs": [],
   "source": [
    "#Sort against time to find the last steps (in time) complete by each learner\n",
    "tmp=sample.sort_values('last_completed_at',ascending=False).groupby('learner_id')\n",
    "#Take the most recent record for each learner\n",
    "tmp=tmp[['last_completed_at','flstep']].first().reset_index()\n",
    "tmp=date_limiter(tmp, index='last_completed_at')\n",
    "tmp.groupby('flstep').size().sort_values(ascending=False).head(10)"
   ]
  },
  {
   "cell_type": "code",
   "execution_count": null,
   "metadata": {
    "collapsed": false
   },
   "outputs": [],
   "source": [
    "tmp.groupby('flstep').size().sort_index().plot(kind='bar',x='flstep',y=0,\n",
    "                                                legend=False,figsize=(15,10),\n",
    "                                                title='Count of times each step is the last \"last completed\" step')"
   ]
  },
  {
   "cell_type": "markdown",
   "metadata": {},
   "source": [
    "As before, we can chart the accumulated count to get a feel for how far people did - or did not - get into the course in terms of steps marked as complete. Once again, the y-axis charts how many people have stopped updating step completion checkboxes by a particular step."
   ]
  },
  {
   "cell_type": "code",
   "execution_count": null,
   "metadata": {
    "collapsed": false
   },
   "outputs": [],
   "source": [
    "tmp.groupby('flstep').size().sort_index().cumsum().plot(kind='bar',x='flstep',y=0,\n",
    "                                                legend=False,figsize=(15,10),\n",
    "                                                title='Accumulated count of number of people who have posted their last \"last completed\" step')"
   ]
  },
  {
   "cell_type": "markdown",
   "metadata": {},
   "source": [
    "As before, we can subtract the accumulated count from the sample size to generate a bar chart in which the height of the bars gives us an indication of how many people went on fron the current step to mark at least one more step as complete."
   ]
  },
  {
   "cell_type": "code",
   "execution_count": null,
   "metadata": {
    "collapsed": false
   },
   "outputs": [],
   "source": [
    "#The rsub() method subtracts the calling column value from the value passed into the method\n",
    "tmp.groupby('flstep').size().sort_index().cumsum().rsub(len(tmp)).plot(kind='bar',x='flstep',y=0,\n",
    "                                                legend=False,figsize=(15,10),\n",
    "                                                title='Count of times someone leave each step to go on to complete at least one more \"last completed\" step')"
   ]
  },
  {
   "cell_type": "markdown",
   "metadata": {},
   "source": [
    "## Step Intelligence - Activity Measures\n",
    "\n",
    "For each step, we can also count the number of learners who first visited or last completed each step, who commented on each step, or who engaged in quiz activity on a particular step.\n",
    "\n",
    "A basic formulation of this sort of report is something like the following:"
   ]
  },
  {
   "cell_type": "code",
   "execution_count": null,
   "metadata": {
    "collapsed": false
   },
   "outputs": [],
   "source": [
    "steps[(steps['first_visited_at'].notnull()) & (steps['learner_id'].isin(enrolled_learners))]['flstep'].value_counts().sort_index().head()\n",
    "#Alternative formulation:\n",
    "#steps[(steps['first_visited_at'].notnull()) & (steps['learner_id'].isin(enrolled_learners))].groupby('flstep').size().head()"
   ]
  },
  {
   "cell_type": "markdown",
   "metadata": {},
   "source": [
    "It's easy enough to create a simple function bound to an interactive widget that lets us chart these counts for different sorts of activity for different groups of learners.\n",
    "\n",
    "To configure the charts, we need to parse the relevant timestamps, so we'll define a dict to perform the relevant mapping."
   ]
  },
  {
   "cell_type": "code",
   "execution_count": null,
   "metadata": {
    "collapsed": true
   },
   "outputs": [],
   "source": [
    "tsDict={'comments': 'timestamp',\n",
    "        'steps_first': 'first_visited_at',\n",
    "        'steps_last':'last_completed_at',\n",
    "        'questions': 'submitted_at',\n",
    "        'enrolments': 'enrolled_at',\n",
    "        'unenrolments': 'unenrolled_at'\n",
    "        }\n",
    "\n",
    "tsData={'comments': comments,\n",
    "        'steps_first': steps,\n",
    "        'steps_last':steps,\n",
    "        'questions': qnresp,\n",
    "        'enrolments': enrolments,\n",
    "        'unenrolments': enrolments\n",
    "        }"
   ]
  },
  {
   "cell_type": "markdown",
   "metadata": {},
   "source": [
    "The interactive function is defined to allow us to display different forms of activity report for different groups of learner.\n",
    "\n",
    "With a bit of jiggery pokery, we can define highlighting rules within the function, for example to highlight bars as social steps in `comments` reports."
   ]
  },
  {
   "cell_type": "code",
   "execution_count": null,
   "metadata": {
    "collapsed": false
   },
   "outputs": [],
   "source": [
    "def i_coreLearnerStepActivityCounts(df,activity,group,igroup,enhancements=True):\n",
    "    if df.index.name is not None: df.reset_index(inplace=True)\n",
    "    pid='author_id' if activity=='comments' else 'learner_id'\n",
    "    if 'flstep' in df.columns:\n",
    "        _activity=tsDict[activity]\n",
    "        tmp=df[(df[_activity].notnull()) & (df[pid].isin(igroup))]['flstep'].value_counts().sort_index()\n",
    "        ax=tmp.plot(kind='bar',figsize=(15,10),\n",
    "                    title='Learner interaction count for {} of their {} activity at each step.'.format(group,_activity))\n",
    "    else: print('Chart not available for that activity.')\n",
    "    \n",
    "    if not enhancements: return\n",
    "    \n",
    "    tmp.index.names=['flstep']\n",
    "    if activity=='comments': highlightSteps(ax,tmp,'social')\n",
    "        \n",
    "def i_learnerStepActivityCounts(activity='steps_first',group='enrolled_learners'):\n",
    "    igroup=groupLookup(group)\n",
    "    df=tsData[activity]\n",
    "    i_coreLearnerStepActivityCounts(df,activity,group,igroup)\n",
    "    \n",
    "gk=grouplist\n",
    "gk.sort()\n",
    "ak=list(tsData.keys())\n",
    "ak.sort()\n",
    "interact(i_learnerStepActivityCounts,\n",
    "         activity=ak,\n",
    "         group=gk)"
   ]
  },
  {
   "cell_type": "markdown",
   "metadata": {},
   "source": [
    "We can also use a date filter to tunnel down on activity within a particular period - a quick sketch shows how to produce a chart that displays step activity on a single day."
   ]
  },
  {
   "cell_type": "code",
   "execution_count": null,
   "metadata": {
    "collapsed": false
   },
   "outputs": [],
   "source": [
    "tmp=date_limiter(steps,'2015-11-04','2015-11-04',index='first_visited_at')\n",
    "tmp['flstep'].value_counts().sort_index().plot(kind='bar',figsize=(15,10))"
   ]
  },
  {
   "cell_type": "markdown",
   "metadata": {},
   "source": [
    "We can generalise this to produce the first fumblings of interactive that allows us to explore data filtered according to a particular time range.\n",
    "\n",
    "A utility function helps us generate dates relative to dates of interest, declared by their name *as a string*."
   ]
  },
  {
   "cell_type": "code",
   "execution_count": null,
   "metadata": {
    "collapsed": true
   },
   "outputs": [],
   "source": [
    "def startEndRange(start,end,start_offset=0,end_offset=0):\n",
    "    start=globals()[start]\n",
    "    end=globals()[end]\n",
    "    start= offsetDays(start,start_offset)\n",
    "    end=offsetDays(end,end_offset)\n",
    "    return (start,end)"
   ]
  },
  {
   "cell_type": "markdown",
   "metadata": {},
   "source": [
    "The interactive function itself will construct the date range relative to dates of interest.\n",
    "\n",
    "Note that if additional dates of interest are declared appropriately at the start of the notebook, they will be available as options in these reports."
   ]
  },
  {
   "cell_type": "code",
   "execution_count": null,
   "metadata": {
    "collapsed": false
   },
   "outputs": [],
   "source": [
    "def periodBasedActivityReport(activity='steps_first',\n",
    "                              group='enrolled_learners',\n",
    "                              start='COURSE_START_DATE', \n",
    "                              start_offset=0,\n",
    "                              end='COURSE_START_DATE',\n",
    "                              end_offset=7):\n",
    "    #tmp=date_limiter(df,'2015-11-04','2015-11-04',index='first_visited_at')\n",
    "    #tmp['flstep'].value_counts().sort_index().plot(kind='bar',figsize=(15,10))\n",
    "    (start,end) = startEndRange(start,end,start_offset,end_offset)\n",
    "    igroup=groupLookup(group)\n",
    "    df=tsData[activity]\n",
    "    df=date_limiter(df,start,end,index=tsDict[activity])\n",
    "    i_coreLearnerStepActivityCounts(df,activity,group,igroup)\n",
    "\n",
    "activities=list(tsDict.keys())\n",
    "activities.sort()\n",
    "\n",
    "interact(periodBasedActivityReport,\n",
    "         report=['hourOfDay','dayOfWeek'],\n",
    "         group=gk,\n",
    "         activity=activities,\n",
    "         start=['COURSE_OPEN_REGISTRATION','COURSE_START_DATE','COURSE_END_DATE','COURSE_PRE_START_MAILINGDATE'],\n",
    "         end=['COURSE_OPEN_REGISTRATION','COURSE_START_DATE','COURSE_END_DATE','COURSE_PRE_START_MAILINGDATE'],\n",
    "         start_offset=(0,35,1),\n",
    "         end_offset=(0,35,1),\n",
    "        )"
   ]
  },
  {
   "cell_type": "markdown",
   "metadata": {},
   "source": [
    "## Step Intelligence - Social Activity in More Detail\n",
    "\n",
    "The *Step Intelligence Activity Reports* allow us to explore the general commenting behaviour around particular steps (select the `comments` actvity), but we can also probe a little further. For example, we can explore the steps on which learners *first* commented."
   ]
  },
  {
   "cell_type": "code",
   "execution_count": null,
   "metadata": {
    "collapsed": false
   },
   "outputs": [],
   "source": [
    "#Sort the comments by timestamp\n",
    "if comments.index.name!='timestamp':comments.set_index('timestamp',inplace=True)\n",
    "#One way of identifying first comments by individual is to remove each duplicate author_id and just True the first\n",
    "tmp=comments.sort_index()[~(comments.duplicated('author_id'))].groupby(['flstep'])['author_id'].nunique()\n",
    "ax=tmp.plot(kind='bar',title='Count of first comment by step')\n",
    "highlightSteps(ax,tmp,'social')"
   ]
  },
  {
   "cell_type": "markdown",
   "metadata": {},
   "source": [
    "The *first comment* report identifies those steps where learners make their first comment. This can be used to check the performance of \"welcome\" steps or first major social activity steps."
   ]
  },
  {
   "cell_type": "markdown",
   "metadata": {},
   "source": [
    "## Reporting on Social Activity\n",
    "\n",
    "Although not really any more useful than as a simple indicator that there is some commenting activity taking place on a course, many people like to see activity indication charts that go up and to the right, such as the growth in number of comments over time.\n",
    "\n",
    "These sorts of charts are largely meaningless (are a large number of learners commenting infrequently, or are a small number of learners commenting regularly, or some combination thereof?), except perhaps when you look to the gradient for information about *rates* of commenting, but pointless charts such as these dominate many dashboards and reports, so here's how to create them.\n",
    "\n",
    "To begin with, we can sort the comments by timestamp and then generate an accumulated count number for each one plotting the result over time."
   ]
  },
  {
   "cell_type": "code",
   "execution_count": null,
   "metadata": {
    "collapsed": false
   },
   "outputs": [],
   "source": [
    "if comments.index.name!='timestamp':comments.set_index('timestamp',inplace=True)\n",
    "comments.sort_index(inplace=True)\n",
    "comments['accnum']=range(len(comments))\n",
    "\n",
    "comments.plot(y='accnum',legend=False, title='Accession plot of comments')"
   ]
  },
  {
   "cell_type": "markdown",
   "metadata": {},
   "source": [
    "We can also spy on the educators to see how their comments grow as a group."
   ]
  },
  {
   "cell_type": "code",
   "execution_count": null,
   "metadata": {
    "collapsed": false
   },
   "outputs": [],
   "source": [
    "educator_comments=comments[comments['author_id'].isin(usersByRole('educator'))][:]\n",
    "educator_comments['accnum']=range(len(educator_comments))\n",
    "educator_comments.plot(y='accnum',legend=False,title='Accession plot of comments by educators')"
   ]
  },
  {
   "cell_type": "markdown",
   "metadata": {},
   "source": [
    "A staircase style of chart shows short bursts of activity.\n",
    "\n",
    "The charts start to become more useful if we start to segment the populations around which the charts are generated, so we can get a feel for how the different populations behave.\n",
    "\n",
    "For example, if we're going to pry into learner activity, we should fully expect folk to pry into educator behaviour too. (If we're going to analyse the heck out of learners, educators should be fully prepared for personnel/HR folk to start analysing the heck out of them in return... After all, why should they miss out on all this analytics hype...?! *Learning anaytics -> work analytics*. You have been warned.)\n",
    "\n",
    "To start with, let's create a simple utility function to plot around groups in a tidy way."
   ]
  },
  {
   "cell_type": "code",
   "execution_count": null,
   "metadata": {
    "collapsed": true
   },
   "outputs": [],
   "source": [
    "def accessionPlotByGroup(df,group,attr,title='',enhancements=True):\n",
    "    #Plot the growth in comments for each week\n",
    "    fig, ax = plt.subplots()  \n",
    "    grouped = df.groupby(group)\n",
    "    for key, group in grouped:\n",
    "        group.plot(ax=ax, y=attr,label=key,title=title)\n",
    "    if not enhancements: return\n",
    "    \n",
    "    ax=studyWeekDatePlot(ax)"
   ]
  },
  {
   "cell_type": "markdown",
   "metadata": {},
   "source": [
    "Now let's pick into the indvidual educator activity."
   ]
  },
  {
   "cell_type": "code",
   "execution_count": null,
   "metadata": {
    "collapsed": false
   },
   "outputs": [],
   "source": [
    "educator_comments['educator_accnum']=''\n",
    "educator_comments['educator_accnum']=educator_comments.groupby('author_id')['educator_accnum'].transform(lambda x: range(len(x.sort_index())))\n",
    "\n",
    "ax=accessionPlotByGroup(educator_comments,'author_id','educator_accnum',title='Accession plot of comments by educator with week start dates marked')\n",
    "  "
   ]
  },
  {
   "cell_type": "markdown",
   "metadata": {},
   "source": [
    "A similar grouping technique can be used to split out the growth in comment numbers according the number of comments made on steps associated with a particular week."
   ]
  },
  {
   "cell_type": "code",
   "execution_count": null,
   "metadata": {
    "collapsed": false
   },
   "outputs": [],
   "source": [
    "if comments.index.name!='timestamp': comments=comments.set_index('timestamp').sort_index()\n",
    "comments['week_accnum']=''\n",
    "comments['week_accnum']=comments.groupby('week_number')['week_accnum'].cumcount()\n",
    "\n",
    "accessionPlotByGroup(comments,'week_number','week_accnum',title='Accession plot of comments by week')"
   ]
  },
  {
   "cell_type": "markdown",
   "metadata": {},
   "source": [
    "A key thing to look for here are different waves of activity associated with learners starting to comment on steps associated with each study week."
   ]
  },
  {
   "cell_type": "markdown",
   "metadata": {},
   "source": [
    "We can generalise that sort of function as the basis for an interactive report generator:"
   ]
  },
  {
   "cell_type": "code",
   "execution_count": null,
   "metadata": {
    "collapsed": false
   },
   "outputs": [],
   "source": [
    "def i_coreLearnerStepAccessionCounts(df,activity,group,igroup,enhancements=True):\n",
    "    pid='author_id' if activity=='comments' else 'learner_id'\n",
    "    df=df[df[pid].isin(igroup)][:]\n",
    "        \n",
    "    if df.index.name!=tsDict[activity]: df=df.set_index(tsDict[activity]).sort_index()\n",
    "    df['week_accnum']=''\n",
    "    df['week_accnum']=df.groupby('week_number')['week_accnum'].cumcount()\n",
    "    accessionPlotByGroup(df,'week_number','week_accnum',\n",
    "                         title='Accession plot of {} by week'.format(activity),\n",
    "                         enhancements=enhancements)\n",
    "\n",
    "        \n",
    "def i_learnerStepAccessionCounts(activity='steps_first',group='enrolled_learners'):\n",
    "    igroup=groupLookup(group)\n",
    "    df=tsData[activity]\n",
    "    i_coreLearnerStepAccessionCounts(df,activity,group,igroup)\n",
    "    \n",
    "interact(i_learnerStepAccessionCounts,\n",
    "         activity=['comments','questions'],\n",
    "         group=gk)"
   ]
  },
  {
   "cell_type": "markdown",
   "metadata": {},
   "source": [
    "## Exploring Study Sessions and the Time Spent in a Study Session\n",
    "\n",
    "With data being provided at the individual level, we can try to identify the structure of individual study sessions completed by each learner, along with the amount of time they are spending on their studies. This information can then be aggregated, perhaps according to different user groups (fully participating learners, for example, or learners who unenrolled). We can also start to search for any common patterns in study behaviour that we might be able to draw on to help us improve the design and pacing of the materials.\n",
    "\n",
    "The original inspiration for these sketches was based around the idea that we should be able to tell various sorts of story about how folk progress through the course based on snapshots of indivisal learner behvaiour.\n",
    "\n",
    "Note the the idea is *not* to try to build models of learners so we can then make direct interventions against individual learners. The motivation is to understand learner progress so we can improve the way that static course materials are designed and how learners use them. (\"Personalised\" courses can also be thought of as interventions made to course materials that are otherwise failing learners in general.)"
   ]
  },
  {
   "cell_type": "markdown",
   "metadata": {},
   "source": [
    "To start with, let's see how an indvidual learner, selected at random from the set of fully participating learners studied the course.\n",
    "\n"
   ]
  },
  {
   "cell_type": "markdown",
   "metadata": {},
   "source": [
    "Create a couple of utility functions to help us select a random (but by default, fully participating) learner."
   ]
  },
  {
   "cell_type": "code",
   "execution_count": null,
   "metadata": {
    "collapsed": false
   },
   "outputs": [],
   "source": [
    "#Select a random, fully participating learner\n",
    "def getRandomLearner(typ=fullypart_learners):\n",
    "    return random.choice(list(typ))\n",
    "\n",
    "def getRandomLearnerSteps(lid):\n",
    "    return steps[steps['learner_id']==lid].copy()"
   ]
  },
  {
   "cell_type": "markdown",
   "metadata": {},
   "source": [
    "When charting learner step activity, time will go along the horizontal x-axis, and encoded step number (WSS) on the vertical y-axis. The spacing of the y-axis will allow us to clearly see the activity associated with seperate weeks, but we can reinforce it by adding horizontal lines to segment the study week steps further."
   ]
  },
  {
   "cell_type": "code",
   "execution_count": null,
   "metadata": {
    "collapsed": true
   },
   "outputs": [],
   "source": [
    "def stepHlines(plt):\n",
    "    for w in range(NUMBER_OF_STUDY_WEEKS):\n",
    "        plt.axhline(y=150+(100*w), color='grey', linestyle='--', lw=2)\n",
    "        \n",
    "def learnerPlot(learner):\n",
    "    if learner.index.name!='first_visited_at': learner.set_index('first_visited_at',inplace=True)\n",
    "    plt.plot_date(learner.index,y=learner['flstep'],markersize=4)\n",
    "    stepHlines(plt)"
   ]
  },
  {
   "cell_type": "markdown",
   "metadata": {},
   "source": [
    "Select a random fully participating learner and generate the activity plot."
   ]
  },
  {
   "cell_type": "code",
   "execution_count": null,
   "metadata": {
    "collapsed": false
   },
   "outputs": [],
   "source": [
    "learnerId=getRandomLearner()\n",
    "learner=getRandomLearnerSteps(learnerId)\n",
    "learnerPlot(learner)"
   ]
  },
  {
   "cell_type": "markdown",
   "metadata": {},
   "source": [
    "In most cases, you should see clear groupings of activity reading horizontally across the chart, representing different study periods.\n",
    "\n",
    "A proxy for the time *between* steps is the time taken on a step, measured as the difference between firest visited step times. (This assumes a learner working linearly through the course.)\n",
    "\n",
    "As a heuristic, if the (proxy) time spent on a single step is greater than a specified period (greater than or equal to M minutes or H hours,for example, we might assume that there is a break between study sessions; I'm going to opt for a period of at least 65 minutes (defined via the ealier set `SESSION_GAP`). (If a practical activity takes over an hour, this means it will be counted as two study sessions).\n",
    "\n",
    "(There are probably far better segmenters available, or even better quick approximators (eg based on z-score?); one for the to do list...)"
   ]
  },
  {
   "cell_type": "code",
   "execution_count": null,
   "metadata": {
    "collapsed": false
   },
   "outputs": [],
   "source": [
    "def learnerSessionSteps(learner,period=SESSION_GAP):\n",
    "    #This isn't really optimised at all - we should sort the index once rather than on each pass for each learner\n",
    "    if learner.index.name is not 'first_visited_at': \n",
    "        learner.set_index('first_visited_at',inplace=True)\n",
    "    learner.sort_index(inplace=True)\n",
    "    learner.reset_index(inplace=True)\n",
    "    learner['stepdiff']=learner['first_visited_at'].diff()\n",
    "    learner['stepdiff_m']=learner['stepdiff'].astype('timedelta64[m]')\n",
    "    learner['stepdiff_h']=learner['stepdiff'].astype('timedelta64[h]')\n",
    "    h,m=minutes, seconds= divmod(period, 60)\n",
    "    learner['newSession']= (learner['stepdiff_m']>=m) & (learner['stepdiff_h']>=h)\n",
    "    learner['sessionNum']=learner['newSession'].cumsum()\n",
    "    return learner\n",
    "    \n",
    "def learnerPlotColoured(learner,period=SESSION_GAP):\n",
    "    #Belt and braces in case the perios was changed\n",
    "    learner=learnerSessionSteps(learner,period)\n",
    "    if learner.index.name!='first_visited_at': learner.set_index('first_visited_at',inplace=True)\n",
    "    learner.groupby('sessionNum').apply(lambda x: plt.plot_date(x.index,y=x['flstep'],markersize=4))\n",
    "\n",
    "learner=learnerSessionSteps(learner)\n",
    "learnerPlotColoured(learner)"
   ]
  },
  {
   "cell_type": "markdown",
   "metadata": {},
   "source": [
    "For the same learner, summarise how many steps were in each study session."
   ]
  },
  {
   "cell_type": "code",
   "execution_count": null,
   "metadata": {
    "collapsed": false
   },
   "outputs": [],
   "source": [
    "print('This learner appears to have engaged in {} study sessions.'.format(len(learner.groupby('sessionNum'))))\n",
    "learner.groupby('sessionNum').size().plot(kind='bar')"
   ]
  },
  {
   "cell_type": "markdown",
   "metadata": {},
   "source": [
    "We can also chart the number of steps carried out within each study session and course week for the same learner."
   ]
  },
  {
   "cell_type": "code",
   "execution_count": null,
   "metadata": {
    "collapsed": false
   },
   "outputs": [],
   "source": [
    "learner.groupby(['sessionNum','week_number']).size().plot(kind='barh')"
   ]
  },
  {
   "cell_type": "markdown",
   "metadata": {},
   "source": [
    "Based on the intuitions and crude approximations used above, we can split out the separate sessions for a particular learner and rebase them against the start time for the session.\n",
    "\n",
    "The timebase provided in the datasets is the datetime of the recorded events. We can also rebase the time to a normalised/relative starting points, most naturally:\n",
    "\n",
    "- the earliest `first_visited_at time` within the steps data for a course by a learner, which allows us to estimate when a learner first started to look at the learning materials associated with the course;\n",
    "- the earliest `first_visited_at time` within a particular study session, which allows us to see how learners use a study session.\n",
    "\n",
    "Let's start by rebasing learners to give us a measure on individual elapsed time in hours since starting the course."
   ]
  },
  {
   "cell_type": "code",
   "execution_count": null,
   "metadata": {
    "collapsed": false
   },
   "outputs": [],
   "source": [
    "def rebase_learners(steps):\n",
    "    #This should only be run once\n",
    "    if 'learnertime_h' in steps.columns: return steps\n",
    "    \n",
    "    if steps.index.name=='first_visited_at': steps.reset_index(inplace=True)\n",
    "    #Set a rebase origin for each learner based on their first step time\n",
    "    rebase=steps.groupby('learner_id')['first_visited_at'].aggregate(min)\n",
    "    rebase.name='first_seen'\n",
    "    rebase=rebase.reset_index()\n",
    "    #Merge the rebase time back in to whatever you want to rebase against, and calculate the difference\n",
    "    steps=pd.merge(steps,rebase,on='learner_id')\n",
    "    steps['learnertime']=steps['first_visited_at']-steps['first_seen']\n",
    "\n",
    "    #Set up some basic difference measures - eg time from first sighting in hours\n",
    "    steps['learnertime_h']=steps['learnertime'].astype('timedelta64[h]')\n",
    "    return steps\n",
    "\n",
    "steps=rebase_learners(steps)"
   ]
  },
  {
   "cell_type": "markdown",
   "metadata": {},
   "source": [
    "This rebasing allows us to compare the study patterns of two or more learners over the course. The horizontal x-axis should probably be labeled in days rather hours to make it a bit more readable."
   ]
  },
  {
   "cell_type": "code",
   "execution_count": null,
   "metadata": {
    "collapsed": false
   },
   "outputs": [],
   "source": [
    "ax=steps[steps['learner_id']==getRandomLearner()].plot('learnertime_h','flstep',kind='scatter',color='orange')\n",
    "steps[steps['learner_id']==getRandomLearner()].plot('learnertime_h','flstep',kind='scatter',ax=ax, color='purple')"
   ]
  },
  {
   "cell_type": "markdown",
   "metadata": {},
   "source": [
    "An alternative rebasing sets the original time to the start of each individal study session. T"
   ]
  },
  {
   "cell_type": "code",
   "execution_count": null,
   "metadata": {
    "collapsed": false
   },
   "outputs": [],
   "source": [
    "def learner_rebaseSession(learner,period=SESSION_GAP):\n",
    "    if learner.index.name is not None: learner.reset_index(inplace=True)\n",
    "    learner=learnerSessionSteps(learner,period)\n",
    "    #Set the start time for each session as the earliest seen first_visited time in the session\n",
    "    learner_rebase=learner.groupby('sessionNum')['first_visited_at'].aggregate(min)\n",
    "    learner_rebase.name='first_seen_session'\n",
    "    \n",
    "    #Generate an increasing session time across steps\n",
    "    learner=pd.merge(learner,learner_rebase.reset_index(),on='sessionNum')\n",
    "    learner['learnersessiontime']=learner['first_visited_at']-learner['first_seen_session']\n",
    "    learner['learnersessiontime_h']=learner['learnersessiontime'].astype('timedelta64[h]')\n",
    "    learner['learnersessiontime_m']=learner['learnersessiontime'].astype('timedelta64[m]')\n",
    "    return learner"
   ]
  },
  {
   "cell_type": "code",
   "execution_count": null,
   "metadata": {
    "collapsed": false
   },
   "outputs": [],
   "source": [
    "learnerId=getRandomLearner()\n",
    "learner=getRandomLearnerSteps(learnerId)\n",
    "\n",
    "test=learner_rebaseSession(learner.copy())\n",
    "fig, ax = plt.subplots()\n",
    "\n",
    "#Filter out groups less than a particular length\n",
    "#test=test.groupby('sessionNum').filter(lambda x: len(x) > 5)\n",
    "\n",
    "for key, group in test.groupby('sessionNum'):\n",
    "    group.plot('learnersessiontime_m','flstep',kind='scatter',ax=ax)\n",
    "#I'm not sure why I can't get this to display different colours for each session?"
   ]
  },
  {
   "cell_type": "markdown",
   "metadata": {},
   "source": [
    "If we can generate reports for an individual, we can run them over all learners. The following function will calculate the session times over all learners."
   ]
  },
  {
   "cell_type": "code",
   "execution_count": null,
   "metadata": {
    "collapsed": false
   },
   "outputs": [],
   "source": [
    "#THIS CELL MAY TAKE QUITE A LONG TIME TO RUN...\n",
    "learnerSessionTimes=steps.groupby('learner_id').apply(learner_rebaseSession)"
   ]
  },
  {
   "cell_type": "markdown",
   "metadata": {},
   "source": [
    "We can now start to generate various reports over the data regarding the amount of time learners spent engaged with the course as well as the amount of time actually spent studying it."
   ]
  },
  {
   "cell_type": "code",
   "execution_count": null,
   "metadata": {
    "collapsed": false
   },
   "outputs": [],
   "source": [
    "tmp_fullLearners=learnerSessionTimes[learnerSessionTimes['learner_id'].isin(fullypart_learners)]\n",
    "tmp_unenrolledLearners=learnerSessionTimes[learnerSessionTimes['learner_id'].isin(unenrolled_learners)]\n",
    "\n",
    "#How many sessions on average do fully participating learners engage in?\n",
    "tmp_val=tmp_fullLearners[['learner_id','sessionNum']].groupby('learner_id').aggregate(lambda x: 1+max(x['sessionNum']))\n",
    "print('Number of study sessions fully participating learners engage in: mean {:.2f}, median {:.2f}'.format(tmp_val.mean()[0],tmp_val.median()[0]))\n",
    "\n",
    "#How many sessions on average do unenrolled learners engage in?\n",
    "tmp_val=tmp_unenrolledLearners[['learner_id','sessionNum']].groupby('learner_id').aggregate(lambda x: 1+max(x['sessionNum']))\n",
    "print('Mean number of study sessions unenrolled learners engage in: mean {:.2f}, median {:.2f}'.format(tmp_val.mean()[0],tmp_val.median()[0]))\n",
    "\n",
    "tmp_val=tmp_fullLearners[['learner_id','sessionNum','learnersessiontime']].groupby('learner_id').aggregate(lambda x: np.mean(x['learnersessiontime']))['learnersessiontime']\n",
    "print('Duration of study sessions fully participating learners engage in: mean {}, median {}'.format(tmp_val.mean(),tmp_val.median()))\n",
    "\n",
    "tmp_val=tmp_unenrolledLearners[['learner_id','sessionNum','learnersessiontime']].groupby('learner_id').aggregate(lambda x: np.mean(x['learnersessiontime']))['learnersessiontime']\n",
    "print('Duration of study sessions unenrolled learners engage in: mean {}, median {}'.format(tmp_val.mean(),tmp_val.median()))\n",
    "\n",
    "#The following is an approximation based on summed step difference times within a study session\n",
    "tmp_val=learnerSessionTimes[(learnerSessionTimes['learner_id'].isin(fullypart_learners)) & (learnerSessionTimes['newSession']==False)][['learner_id','sessionNum','stepdiff']].groupby('learner_id').aggregate(lambda x: np.sum(x['stepdiff']))['stepdiff']\n",
    "print('Overall duration (ish) of study for fully participating learners: mean {}, median {}'.format(tmp_val.mean(),tmp_val.median()))\n",
    "\n",
    "tmp_val=learnerSessionTimes[(learnerSessionTimes['learner_id'].isin(unenrolled_learners)) & (learnerSessionTimes['newSession']==False)][['learner_id','sessionNum','stepdiff']].groupby('learner_id').aggregate(lambda x: np.sum(x['stepdiff']))['stepdiff']\n",
    "print('Overall duration (ish) of study for unenrolled learners: mean {}, median {}'.format(tmp_val.mean(),tmp_val.median()))\n",
    "\n",
    "#The following is based on the difference between first and last visited steps;\n",
    "tmp_val=tmp_fullLearners[['learner_id','first_visited_at']].groupby('learner_id').aggregate(lambda x: np.max(x['first_visited_at'])-np.min(x['first_visited_at']))['first_visited_at']\n",
    "print('Overall time engaged in studying the course by fully participating learners: mean {}, median {}'.format(tmp_val.mean(),tmp_val.median()))\n",
    "\n",
    "tmp_val=tmp_unenrolledLearners[['learner_id','first_visited_at']].groupby('learner_id').aggregate(lambda x: np.max(x['first_visited_at'])-np.min(x['first_visited_at']))['first_visited_at']\n",
    "print('Overall time engaged in studying the course by unenrolled learners: mean {}, median {}'.format(tmp_val.mean(),tmp_val.median()))"
   ]
  },
  {
   "cell_type": "markdown",
   "metadata": {},
   "source": [
    "### The Full-Learner View\n",
    "\n",
    "We can start to tighten things up around the time spent on a course by generating a single time view over the course that includes all timestamped activity in a single list.\n",
    "\n",
    "TO DO"
   ]
  },
  {
   "cell_type": "code",
   "execution_count": null,
   "metadata": {
    "collapsed": true
   },
   "outputs": [],
   "source": [
    "#colour chart showing different activities"
   ]
  },
  {
   "cell_type": "markdown",
   "metadata": {},
   "source": [
    "## Scheduling Support\n",
    "\n",
    "One of the most direct ways of supporting learners on the FutureLearn platfrom is through comment moderation, in which moderators organised by the publisher institutions keep an eye on comment threads and respond where necessary.\n",
    "\n",
    "By investigating times of day and days of the week when there appears to be significant amounts of platform activity associated with a course, course publishers may be better able to schedule moderator support.\n",
    "\n",
    "In particular, the `steps`, `comments` and `question` logs provide timestamp information that can be used to identify busy (or quiet) periods. A detailed study might look for correlations between the different sorts of activity, and explore differnt policies about when moderators should be online (for example, should a moderator try to encourage activity if comments are quiet but there is a lot of stop activity? Should moderators follow busy commenting periods or busy quiz periods?).\n",
    "\n",
    "All I am interested in here is in producing a few quick tools to help us look at the data in order to spot busy and quiet periods."
   ]
  },
  {
   "cell_type": "markdown",
   "metadata": {},
   "source": [
    "### Activity Reports by Day of Week and Hour of Day\n",
    "\n",
    "To try to get a feel for when there is most activity ongoing around a course, we can generate two different sorts of  macroscopic chart that use day-of-week and hour-of-day dimensions to display activity counts: *bubble matrix charts* and *heatmaps*."
   ]
  },
  {
   "cell_type": "markdown",
   "metadata": {},
   "source": [
    "The bubble matrix chart aligns a \"bubble\" display against day of week and hour of day with bubble size representing the activity count in that hourly period summed over all weeks contained in the dataset."
   ]
  },
  {
   "cell_type": "code",
   "execution_count": null,
   "metadata": {
    "collapsed": false
   },
   "outputs": [],
   "source": [
    "def activityBubbleMatrix(df,typ='comments',title=''):    \n",
    "    tmp=df.reset_index().set_index(tsDict[typ])\n",
    "    tmp=tmp.groupby([tmp.index.dayofweek,tmp.index.hour]).size().reset_index()\n",
    "    tmp.rename(columns={0:'count'},inplace=True)\n",
    "    ax=tmp.plot(kind='scatter',x='level_0',y='level_1',s=tmp['count'],figsize=(15,10))\n",
    "    ax.set_xlabel('')\n",
    "    ax.set_ylabel('Hour of day')\n",
    "    ax.set_title(title)\n",
    "    ax.set_xticklabels(['','Monday', 'Tuesday', 'Wednesday', 'Thursday', 'Friday', 'Saturday', 'Sunday'])"
   ]
  },
  {
   "cell_type": "markdown",
   "metadata": {},
   "source": [
    "We can pass a range of activity data types into the charting function to display activity counts for each of the data types collected."
   ]
  },
  {
   "cell_type": "code",
   "execution_count": null,
   "metadata": {
    "collapsed": false
   },
   "outputs": [],
   "source": [
    "activityBubbleMatrix(comments,title='Number of comments by hour of day and day of week')"
   ]
  },
  {
   "cell_type": "markdown",
   "metadata": {},
   "source": [
    "The second chart type is a heatmap where the intensity of the cell colour reflects the level of activity within the period associated with each cell."
   ]
  },
  {
   "cell_type": "code",
   "execution_count": null,
   "metadata": {
    "collapsed": false
   },
   "outputs": [],
   "source": [
    "def activityHeatmap(df,typ='comments',title='',label=True):\n",
    "    tmp=df.reset_index().set_index(tsDict[typ])\n",
    "    tmp['dow']=tmp.index.dayofweek\n",
    "    tmp['hod']=tmp.index.hour\n",
    "    val='id' if typ=='comments' else 'learner_id'\n",
    "    tmp=tmp.pivot_table(index=['dow'], columns='hod',values=val,aggfunc='count')\n",
    "    \n",
    "    plt.rc(\"figure\", figsize=(15, 10))\n",
    "    cmap=sns.light_palette(\"purple\", reverse=False,as_cmap=True)\n",
    "    ax=sns.heatmap(tmp, annot=label, linewidths=.5,cmap=cmap,fmt='g')\n",
    "    ax.set_ylabel('')\n",
    "    ax.set_xlabel('Hour of Day')\n",
    "    ax.set_yticklabels(['Monday', 'Tuesday', 'Wednesday', 'Thursday', 'Friday', 'Saturday', 'Sunday'][::-1])\n",
    "    ax.set_title(title)"
   ]
  },
  {
   "cell_type": "markdown",
   "metadata": {},
   "source": [
    "Again, we can pass in different activity data, such as step activity data."
   ]
  },
  {
   "cell_type": "code",
   "execution_count": null,
   "metadata": {
    "collapsed": false
   },
   "outputs": [],
   "source": [
    "activityHeatmap(steps,typ='steps_first',\n",
    "                title='Heatmap showing comment activity by hour of day and day of week',\n",
    "                label=False)"
   ]
  },
  {
   "cell_type": "markdown",
   "metadata": {},
   "source": [
    "We can combine the separate charting functions within a single interactive function that allows us to generate each sort of activity chart for each sort of timestamped data."
   ]
  },
  {
   "cell_type": "code",
   "execution_count": null,
   "metadata": {
    "collapsed": true
   },
   "outputs": [],
   "source": [
    "def activityCharter(activity='comments',chartType='heatmap'):\n",
    "    df=tsData[activity]\n",
    "    title='{} showing activity around {}.'.format(chartType.capitalize(),activity)\n",
    "    activityHeatmap(df,activity,title) if chartType=='heatmap' else activityBubbleMatrix(df,activity,title)"
   ]
  },
  {
   "cell_type": "markdown",
   "metadata": {},
   "source": [
    "The `interact()` function constructs the controls around activity and chart type selectors.\n",
    "\n",
    "The heatmap is also configured by default to display the count values."
   ]
  },
  {
   "cell_type": "code",
   "execution_count": null,
   "metadata": {
    "collapsed": false
   },
   "outputs": [],
   "source": [
    "interact(activityCharter,activity=activities,chartType=['bubbleMatrix','heatmap'])"
   ]
  },
  {
   "cell_type": "markdown",
   "metadata": {},
   "source": [
    "Note that there are problems associated with both these charts where activity levels drop of over several weeks - high levels of activity from early in the course are likely to swamp out different patterns of activity that emerge later in the course.\n",
    "\n",
    "We could attempt to limit the date range of the data passed into the chart functions, but the day-of-week labels may be incorrect if we have a sample time period of less than a week."
   ]
  },
  {
   "cell_type": "markdown",
   "metadata": {},
   "source": [
    "As well as the macroscopic view over time of day and day of week, we can just limit the views to show summary hour-of-day or day-of-week charts. This charts provide a more glanceable take on peak days/hours, though again they are biased by hight volumne of activity days."
   ]
  },
  {
   "cell_type": "code",
   "execution_count": null,
   "metadata": {
    "collapsed": true
   },
   "outputs": [],
   "source": [
    "def activityHourOfDayScatter(df,typ='comments',title=''):\n",
    "    df=df.reset_index().set_index(tsDict[typ])\n",
    "    #Count comments by hour of day\n",
    "    ax=df.groupby([df.index.hour]).size().reset_index().plot(kind='scatter',x='index',y=0,title=title)\n",
    "    ax.set_xlabel(\"Hour of day\")\n",
    "    ax.set_ylabel(\"Number of {}\".format(typ))\n",
    "    #There must be a neater way than this?1!\n",
    "    ax.set_xlim(-0.3,23.3)\n",
    "\n",
    "def activityDayOfWeekScatter(df,typ='comments',title=''):\n",
    "    df=df.reset_index().set_index(tsDict[typ])\n",
    "    #Count comments by day of week\n",
    "    ax=df.groupby([df.index.dayofweek]).size().reset_index().plot(kind='scatter',x='index',y=0,title=title)\n",
    "    ax.set_xlabel(\"Day of week\")\n",
    "    ax.set_ylabel(\"Number of {}\".format(typ))\n",
    "    #There must be a neater way than this?1!\n",
    "    ax.set_xlim(-0.3,6.3)"
   ]
  },
  {
   "cell_type": "markdown",
   "metadata": {},
   "source": [
    "To look in closer relief at the hourly or daily breakdown of a particular sort of activity, it may often be convenient to filter within a particular date range.\n",
    "\n",
    "For example, daily activity (*Monday* is day `0`)."
   ]
  },
  {
   "cell_type": "code",
   "execution_count": null,
   "metadata": {
    "collapsed": false
   },
   "outputs": [],
   "source": [
    "activityDayOfWeekScatter(date_limiter(steps,offsetDays(COURSE_START_DATE,3),\n",
    "                                      offsetDays(COURSE_START_DATE,5),\n",
    "                                      index=tsDict['steps_first']),\n",
    "                         typ='steps_first', title='First visited step activity in days 3 to 5 after the start of the course')"
   ]
  },
  {
   "cell_type": "markdown",
   "metadata": {},
   "source": [
    "Alternatively, we can look at hourly breakdowns, even down to the level of within a single day, such as the first day, or across a specified date range.\n",
    "\n",
    "For example, was there any question answering activity on the first day of the course?"
   ]
  },
  {
   "cell_type": "code",
   "execution_count": null,
   "metadata": {
    "collapsed": false
   },
   "outputs": [],
   "source": [
    "activityHourOfDayScatter(date_limiter(qnresp,COURSE_START_DATE,COURSE_START_DATE,\n",
    "                                      index=tsDict['questions']),\n",
    "                         typ='questions',title='Count of question activity on first day of course')"
   ]
  },
  {
   "cell_type": "markdown",
   "metadata": {},
   "source": [
    "We can start to sketch an interactive display that helps us limit the data to a crudely specified period more easily."
   ]
  },
  {
   "cell_type": "code",
   "execution_count": null,
   "metadata": {
    "collapsed": false
   },
   "outputs": [],
   "source": [
    "def periodHourDayActivityChart(report,activity='enrolments',\n",
    "                               start='COURSE_OPEN_REGISTRATION', \n",
    "                               start_offset=0,\n",
    "                               end='COURSE_OPEN_REGISTRATION',\n",
    "                               end_offset=7):\n",
    "    \n",
    "    (start,end) = startEndRange(start,end,start_offset,end_offset)\n",
    "    \n",
    "    title='Count of {} by {} from {} to {}'.format(activity,report,start,end)\n",
    "    \n",
    "    df=tsData[activity]\n",
    "    if report=='hourOfDay':\n",
    "        ax=activityHourOfDayScatter(date_limiter(df,start,end,index=tsDict[activity]),\n",
    "                                    typ=activity,title=title)\n",
    "    elif report=='dayOfWeek':\n",
    "        ax=activityDayOfWeekScatter(date_limiter(df,start,end,index=tsDict[activity]),\n",
    "                                    typ=activity,title=title)\n",
    "    \n",
    "interact(periodHourDayActivityChart,\n",
    "         report=['hourOfDay','dayOfWeek'],\n",
    "         activity=activities,\n",
    "         start=['COURSE_OPEN_REGISTRATION','COURSE_START_DATE','COURSE_END_DATE','COURSE_PRE_START_MAILINGDATE'],\n",
    "         end=['COURSE_OPEN_REGISTRATION','COURSE_START_DATE','COURSE_END_DATE','COURSE_PRE_START_MAILINGDATE'],\n",
    "         start_offset=(0,35,1),\n",
    "         end_offset=(0,35,1),\n",
    "        )"
   ]
  },
  {
   "cell_type": "markdown",
   "metadata": {},
   "source": [
    "It is left to further work to normalise and aggregate the event time data from each of the data files into a single, long, tidy formatted dataframe with at the very least timestamp and event type columns."
   ]
  },
  {
   "cell_type": "markdown",
   "metadata": {},
   "source": [
    "## Quiz Diagnostics\n",
    "\n",
    "The FutureLearn question response data identifies each answer selection made by a learner, recording the quiz question number, the answer option selected, and whether this was the correct answer."
   ]
  },
  {
   "cell_type": "code",
   "execution_count": null,
   "metadata": {
    "collapsed": false
   },
   "outputs": [],
   "source": [
    "print('Enrolled learners who answered at least one quiz question: {:,}.'.format(len(quiz_learners)))\n",
    "\n",
    "print('Number of questions: {}.'.format(len(qnresp['qid'].unique())))"
   ]
  },
  {
   "cell_type": "markdown",
   "metadata": {},
   "source": [
    "As a headline report, one thing we might be interested in is the typical behaviour of learners in terms of the average number of questions answered."
   ]
  },
  {
   "cell_type": "code",
   "execution_count": null,
   "metadata": {
    "collapsed": false
   },
   "outputs": [],
   "source": [
    "def questionCountsByLearner(group):\n",
    "    return qnresp[qnresp['learner_id'].isin(group)].groupby('learner_id').apply(lambda x: x['qid'].nunique())\n",
    "\n",
    "print('Mean number of questions attempted by fully particpating learners: {}'.format(np.mean(questionCountsByLearner(fullypart_learners))))\n",
    "print('Median number of questions attempted by fully participating learners: {}'.format(np.median(questionCountsByLearner(fullypart_learners))))\n",
    "\n",
    "print('Mean number of questions attempted by unenrolled learners: {}'.format(np.mean(questionCountsByLearner(unenrolled_learners))))\n",
    "print('Median number of questions attempted by unenrolled learners: {}'.format(np.median(questionCountsByLearner(unenrolled_learners))))"
   ]
  },
  {
   "cell_type": "markdown",
   "metadata": {},
   "source": [
    "### Question/Answer Diagnostics\n",
    "\n",
    "Quiz question/answer diagnostics allow us to explore how each question appears to be performing based on mass learner direct interactions with each question."
   ]
  },
  {
   "cell_type": "markdown",
   "metadata": {},
   "source": [
    "It will be useful to identify the true responses for each answer, identified using our custom question identifier, `qid`, so we can use them to highlight further reports."
   ]
  },
  {
   "cell_type": "code",
   "execution_count": null,
   "metadata": {
    "collapsed": false
   },
   "outputs": [],
   "source": [
    "correct_ans=sorted(qnresp[qnresp['correct']]['qidr'].unique().tolist())"
   ]
  },
  {
   "cell_type": "markdown",
   "metadata": {},
   "source": [
    "To begin with, we might look at how many attempts are made by learners, on average, at answering each question.\n",
    "\n",
    "Let's start by grouping the rows according to question and learner."
   ]
  },
  {
   "cell_type": "code",
   "execution_count": null,
   "metadata": {
    "collapsed": true
   },
   "outputs": [],
   "source": [
    "qnresp_qgroup=qnresp.groupby(['quiz_question','learner_id']).size().reset_index().groupby('quiz_question')"
   ]
  },
  {
   "cell_type": "markdown",
   "metadata": {},
   "source": [
    "We can now chart this information using a bar plot."
   ]
  },
  {
   "cell_type": "code",
   "execution_count": null,
   "metadata": {
    "collapsed": false
   },
   "outputs": [],
   "source": [
    "qnresp_qgroup[0].aggregate([np.mean,np.median]).plot(kind='bar')"
   ]
  },
  {
   "cell_type": "markdown",
   "metadata": {},
   "source": [
    "If the average number of attempts far exceeds a single attempt, we may have a problem with that question."
   ]
  },
  {
   "cell_type": "markdown",
   "metadata": {},
   "source": [
    "Another way of reviewing questions is to probe a little bit more deeply into the behaviour around each responses provided to each quiz question. For example, we can display a count of how many times each answer option was selected for each question, along with whether the answer selection was the correct answer or not:"
   ]
  },
  {
   "cell_type": "code",
   "execution_count": null,
   "metadata": {
    "collapsed": false
   },
   "outputs": [],
   "source": [
    "qnresp.groupby(['week_number','step_number','question_number','response','correct']).size()"
   ]
  },
  {
   "cell_type": "markdown",
   "metadata": {},
   "source": [
    "A possibly more informative report counts the total number of responses per question and then reports the percentage of this total corresponding to responses made in favour of each particular answer."
   ]
  },
  {
   "cell_type": "code",
   "execution_count": null,
   "metadata": {
    "collapsed": false
   },
   "outputs": [],
   "source": [
    "def quiz_pivot(df, percent=True):\n",
    "    tmp = df.pivot_table(index=['week_number','step_number','question_number'],\n",
    "                         columns='response',\n",
    "                         values='correct',\n",
    "                         aggfunc='count')\n",
    "    if percent:\n",
    "        return tmp.apply(lambda x : 100*(x / x.sum()), axis=1)\n",
    "    return tmp\n",
    "\n",
    "qnresp_pivot=quiz_pivot(qnresp)\n",
    "qnresp_pivot"
   ]
  },
  {
   "cell_type": "markdown",
   "metadata": {},
   "source": [
    "Summaries such as this can often be usefully visualisied using a heat map style chart. If we additionally highlight the cell corresponding to the correct answer for each question, we can get an immediate report on how well a question is performing in terms of the percentage of correct anwser options submitted as a fraction of the total number of the answers (inclduing multiple attempt answers) submitted for each question.\n",
    "\n",
    "To make the chart easier to read, the percentage values can be dsiplayed within each cell of the heat map, along with a gradient based coloured background displaying the \"heat\" of each cell."
   ]
  },
  {
   "cell_type": "code",
   "execution_count": null,
   "metadata": {
    "collapsed": false
   },
   "outputs": [],
   "source": [
    "#Define a function to find the co-rodinates in the grid of the correct answer\n",
    "def calcCoords(ans):\n",
    "    x=int(ans.split('.')[-1])-1\n",
    "    y=len(correct_ans)-correct_ans.index(ans)-1\n",
    "    return (x,y)\n",
    "\n",
    "\n",
    "def quizHeatmap(df,title='Heatmap showing percentage of answer option selection by question (correct answer highlighted)'):\n",
    "    plt.rc(\"figure\", figsize=(15, 10))\n",
    "    cmap=sns.light_palette(\"purple\", reverse=False,as_cmap=True)\n",
    "    #The fmt option suppresses default label display using scientific notation\n",
    "    ax=sns.heatmap(df, annot=True, linewidths=.5,cmap=cmap,fmt='g')\n",
    "    ax.set_xlabel('Answer')\n",
    "    ax.set_ylabel('Question')\n",
    "    ax.set_title(title)\n",
    "    #Highlight correct answer cells\n",
    "    #http://stackoverflow.com/a/31291200/454773\n",
    "    for ans in correct_ans:\n",
    "        ax.add_patch(Rectangle(calcCoords(ans), 1, 1, fill=False, edgecolor='red', lw=3))"
   ]
  },
  {
   "cell_type": "markdown",
   "metadata": {},
   "source": [
    "(I need to figure out how to limit the percent label to show at most 1 decimal place...)"
   ]
  },
  {
   "cell_type": "code",
   "execution_count": null,
   "metadata": {
    "collapsed": false
   },
   "outputs": [],
   "source": [
    "quizHeatmap(qnresp_pivot)"
   ]
  },
  {
   "cell_type": "markdown",
   "metadata": {},
   "source": [
    "In terms of diagnostics, look for highly selected answers that are *not* the highlighted correct answer, or questions where there are significant numbers of learners selecting across a wide range of ansswer options on a particualr question.\n",
    "\n",
    "If learners almost universally select the same, correct answer, that question may be a bit too easy!\n",
    "\n",
    "We can also look at quiz interaction behaviour for different groups of learners, such as counts of all question attempts by unenrolled learners:"
   ]
  },
  {
   "cell_type": "code",
   "execution_count": null,
   "metadata": {
    "collapsed": false
   },
   "outputs": [],
   "source": [
    "quizHeatmap(quiz_pivot(qnresp[qnresp['learner_id'].isin(unenrolled_learners)],percent=False))"
   ]
  },
  {
   "cell_type": "markdown",
   "metadata": {},
   "source": [
    "As well we using heat maps to display the pivot table data, we can also use dodged bar charts. If bars for a particular question are of a similar height it suggests there may be some confusion as to which is the correct answer. If there are two bars of a similar height, it might suggest that the main distractor is too distracting, or alternatively that the question is acting as a strong distinguisher."
   ]
  },
  {
   "cell_type": "code",
   "execution_count": null,
   "metadata": {
    "collapsed": false
   },
   "outputs": [],
   "source": [
    "#For a bar chart based on percentages, simply use:\n",
    "qnresp_pivot.plot(kind='bar')"
   ]
  },
  {
   "cell_type": "markdown",
   "metadata": {},
   "source": [
    "It might be worth automating a simple text report to flag questions where the first offered answer tends to be incorrect."
   ]
  },
  {
   "cell_type": "markdown",
   "metadata": {},
   "source": [
    "### Displaying Reports for `n`'th Attempted Answers on Each Question\n",
    "\n",
    "The above reports summarise *all* responses to the quiz questions.\n",
    "\n",
    "It might also be useful - indeed, it may be *more* useful - to report on the first, second or even third attempt quiz answers reported by each learner by filtering the data to contain just the first, second or third attempted answers by each learner before performing the count.\n",
    "\n",
    "For convenience, let's define a couple of functions to make this sort of report a bit easier to display."
   ]
  },
  {
   "cell_type": "code",
   "execution_count": null,
   "metadata": {
    "collapsed": false
   },
   "outputs": [],
   "source": [
    "def quizNthAttempt(df,n=0):\n",
    "    return df.sort_values('submitted_at').groupby(['learner_id','week_number','step_number','question_number']).nth(n).reset_index()\n",
    "\n",
    "def quizHeatMapNthVisit(df,n=0,percent=True):\n",
    "    ''' Chart the propotion of answers submitted to each option at the n'th attempt. First attempt: n=0 '''\n",
    "    tmp=quizNthAttempt(df,n)\n",
    "    tmp=quiz_pivot(tmp, percent)\n",
    "        \n",
    "    #Need to use s/thing like https://pypi.python.org/pypi/inflect for eg 1st, 2nd, 3rd choice etc\n",
    "    quizHeatmap(tmp,\"Heatmap of counts for learner attempt number {} at a question (correct answer highlighted)\".format(n+1))"
   ]
  },
  {
   "cell_type": "markdown",
   "metadata": {},
   "source": [
    "Now we can generate a heat map showing the percentage of submissions for each answer option on a learner's `n`'th attempt at a question. (The first attempt has index `n=0`.)\n",
    "\n",
    "The final Boolean argument of the `quizHeatMapNthVisit()` function specifies whether we want to diaply raw count or percentage information as the cell label."
   ]
  },
  {
   "cell_type": "code",
   "execution_count": null,
   "metadata": {
    "collapsed": false
   },
   "outputs": [],
   "source": [
    "quizHeatMapNthVisit(qnresp,1,False)"
   ]
  },
  {
   "cell_type": "markdown",
   "metadata": {},
   "source": [
    "Charting for higher values of `n` will display only those questions where multiple attempts were made at the question."
   ]
  },
  {
   "cell_type": "markdown",
   "metadata": {},
   "source": [
    "As well as reporting percentages, we can also use a dodged bar chart to display raw counts. This has the secondary benefit of showing volumes of attempts at each question, particularly when filtered relative to the number of `n`'th attempt answers.\n",
    "\n",
    "Unfortunately, the dodged bar charts do not identify the correct answer option for each question, so it's hard to see whether dominant anwsers were for the correct option."
   ]
  },
  {
   "cell_type": "code",
   "execution_count": null,
   "metadata": {
    "collapsed": false
   },
   "outputs": [],
   "source": [
    "tmp=quizNthAttempt(qnresp,0).pivot_table(index=['week_number','step_number','question_number'],\n",
    "                                     columns='response',\n",
    "                                     values='correct',\n",
    "                                     aggfunc='count')\n",
    "tmp.plot(kind='bar')"
   ]
  },
  {
   "cell_type": "markdown",
   "metadata": {},
   "source": [
    "A more direct visual report on the volume of activity for each step comes in the form of a stacked bar chart:"
   ]
  },
  {
   "cell_type": "code",
   "execution_count": null,
   "metadata": {
    "collapsed": false
   },
   "outputs": [],
   "source": [
    "tmp.plot(kind='bar',stacked=True)"
   ]
  },
  {
   "cell_type": "markdown",
   "metadata": {},
   "source": [
    "The stacked bar chart also provides us with a means of easily exploring the volume of *n*'th attempts at each particular question in the form of a graphic that identifies questions where multiple attempts are made (for whatever reason).\n",
    "\n",
    "We could go on to investigate whether learners try incorrect answers having got the correct answer, for example, and also display counts of these attempts as a bar chart (*not explored here*).\n",
    "\n",
    "The following chart shows how many third attempts were made across the quiz questions."
   ]
  },
  {
   "cell_type": "code",
   "execution_count": null,
   "metadata": {
    "collapsed": false
   },
   "outputs": [],
   "source": [
    "#For first attempt stats, set n=1; for second attempt, n=2; for M'th attempt, n=M\n",
    "def i_quizNthAttemptCounts(attempt=1):\n",
    "    tmp=quizNthAttempt(qnresp,attempt-1).pivot_table(index=['week_number','step_number','question_number'],\n",
    "                                                     columns='response',\n",
    "                                                     values='correct',\n",
    "                                                     aggfunc='count')\n",
    "    tmp.plot(kind='bar',stacked=True,title='Count of attempt number {} responses to quiz questions'.format(attempt))\n",
    "interact(i_quizNthAttemptCounts,attempt=(1,5,1))"
   ]
  },
  {
   "cell_type": "markdown",
   "metadata": {},
   "source": [
    "### Probing Individual Questions\n",
    "\n",
    "Our initial headline reports gave some indication of the general behaviour around each question. If a particular question seems to be a cause of concern, how might we probe it in a little more detail?\n",
    "\n",
    "Let's grab a sample question at random (or specify your own)."
   ]
  },
  {
   "cell_type": "code",
   "execution_count": null,
   "metadata": {
    "collapsed": false
   },
   "outputs": [],
   "source": [
    "#Get a random sample question\n",
    "sampleq=random.choice(qnresp['quiz_question'].unique())\n",
    "print('Using question: {}'.format(sampleq))\n",
    "#Alternatively, identify your own sample question.\n",
    "#For example,for week 1, step 12, question 3, set: sampleq='1.12.3'"
   ]
  },
  {
   "cell_type": "markdown",
   "metadata": {},
   "source": [
    "How many attempts were made at the question overall?\n",
    "\n",
    "We have already grouped rows by question and learner as `qnresp_qgroup`, so let's build on that by selecting out the rows for a particular question."
   ]
  },
  {
   "cell_type": "code",
   "execution_count": null,
   "metadata": {
    "collapsed": false
   },
   "outputs": [],
   "source": [
    "ax=qnresp_qgroup.get_group(sampleq)[0].value_counts().sort_index().plot(kind='bar',\n",
    "                                                                      title='Count of number of attempts for question {}'.format(sampleq))\n",
    "ax.set_xlabel('Number of attempts')\n",
    "ax.set_ylabel('')"
   ]
  },
  {
   "cell_type": "markdown",
   "metadata": {},
   "source": [
    "The list of questions isn't too long, so we can create an interactive drop down list identifying each question type and bind it to a chart display to show counts against the varying number of attempts made with respect to the selected question."
   ]
  },
  {
   "cell_type": "code",
   "execution_count": null,
   "metadata": {
    "collapsed": false
   },
   "outputs": [],
   "source": [
    "def i_questionAttempts(sampleq):\n",
    "    ax=qnresp_qgroup.get_group(sampleq)[0].value_counts().sort_index().plot(kind='bar',\n",
    "                                                                      title='Count of number of attempts for question {}'.format(sampleq))\n",
    "    ax.set_xlabel('Number of attempts')\n",
    "    ax.set_ylabel('')\n",
    "interact(i_questionAttempts, sampleq=qnresp.sort('quiz_question')['quiz_question'].unique().tolist())"
   ]
  },
  {
   "cell_type": "markdown",
   "metadata": {},
   "source": [
    "## Summary\n",
    "\n",
    "This notebook contains a variety of sketches and doodles showing how we can start to have a conversation with data from FutureLearn courses. The aim has been not to model learner behaviour or provide learner level diagnostics, preferring instead to review the mass action behaviour of learners in order to better help us understand how the course materials themselves are performing.\n",
    "\n",
    "The notebook was put together as a recereational data activity, largely in my own time. In part, I've also used it to teach myself about how to use Jupyter notebooks' interactive widgets (I've never really used them before...)"
   ]
  }
 ],
 "metadata": {
  "kernelspec": {
   "display_name": "Python 3",
   "language": "python",
   "name": "python3"
  },
  "language_info": {
   "codemirror_mode": {
    "name": "ipython",
    "version": 3
   },
   "file_extension": ".py",
   "mimetype": "text/x-python",
   "name": "python",
   "nbconvert_exporter": "python",
   "pygments_lexer": "ipython3",
   "version": "3.4.3"
  }
 },
 "nbformat": 4,
 "nbformat_minor": 0
}
